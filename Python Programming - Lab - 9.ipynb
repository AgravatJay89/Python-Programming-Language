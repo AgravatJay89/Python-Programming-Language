{
 "cells": [
  {
   "cell_type": "markdown",
   "metadata": {},
   "source": [
    "<a href='https://www.darshan.ac.in/'> <img src='https://www.darshan.ac.in/Content/media/DU_Logo.svg' width=\"250\" height=\"300\"/></a>\n",
    "<pre>\n",
    "<center><b><h1>Python Programming - 2101CS405</b></center>\n",
    "<center><b><h1>Lab - 9</b></center>    \n",
    "<pre>"
   ]
  },
  {
   "cell_type": "markdown",
   "metadata": {},
   "source": [
    "# Exception Handling"
   ]
  },
  {
   "cell_type": "markdown",
   "metadata": {},
   "source": [
    "# A"
   ]
  },
  {
   "cell_type": "markdown",
   "metadata": {},
   "source": [
    "### 01) WAP to handle divide by zero exception."
   ]
  },
  {
   "cell_type": "code",
   "execution_count": 34,
   "metadata": {},
   "outputs": [
    {
     "name": "stdout",
     "output_type": "stream",
     "text": [
      "a = 10, b = 0\n",
      "Zero Division Error\n"
     ]
    }
   ],
   "source": [
    "try:\n",
    "    a = int(input(\"Enter First Number :\"))\n",
    "    b = int(input(\"Enter Second Number :\"))\n",
    "    print(\"a = {}, b = {}\".format(a,b))\n",
    "    ans = a/b\n",
    "    print(ans)\n",
    "except ZeroDivisionError:\n",
    "    print(\"Zero Division Error\") "
   ]
  },
  {
   "cell_type": "markdown",
   "metadata": {},
   "source": [
    "### 02)  Write a Python program that inputs a number and generates an error message if it is not a number."
   ]
  },
  {
   "cell_type": "code",
   "execution_count": 69,
   "metadata": {},
   "outputs": [
    {
     "name": "stdout",
     "output_type": "stream",
     "text": [
      "it's not a Number\n"
     ]
    }
   ],
   "source": [
    "# %reset\n",
    "try:      \n",
    "    n = int(input(\"Enter Any Number : \"))\n",
    "    print(n)\n",
    "\n",
    "except ValueError:\n",
    "    print(\"it's not a Number\")\n",
    "\n"
   ]
  },
  {
   "cell_type": "markdown",
   "metadata": {},
   "source": [
    "### 03) WAP to handle file not found Exception"
   ]
  },
  {
   "cell_type": "code",
   "execution_count": 67,
   "metadata": {},
   "outputs": [
    {
     "name": "stdout",
     "output_type": "stream",
     "text": [
      "File not Found\n"
     ]
    }
   ],
   "source": [
    "try:\n",
    "    a = open(\"xyz.txt\",'r')\n",
    "    for i in a.readlines():\n",
    "        print(i)\n",
    "except FileNotFoundError:\n",
    "    print(\"File not Found\")"
   ]
  },
  {
   "cell_type": "markdown",
   "metadata": {},
   "source": [
    "### 04) WAP to handle type Exception."
   ]
  },
  {
   "cell_type": "code",
   "execution_count": 73,
   "metadata": {},
   "outputs": [
    {
     "name": "stdout",
     "output_type": "stream",
     "text": [
      "x = 10, y = a\n",
      "Type Error\n"
     ]
    }
   ],
   "source": [
    "try:\n",
    "    x = int(input(\"Enter First Number :\"))\n",
    "    y = input(\"Enter Second Number :\")\n",
    "    print(\"x = {}, y = {}\".format(x,y))\n",
    "    sum = x + y\n",
    "    print(sum)\n",
    "except TypeError:\n",
    "    print(\"Type Error\")"
   ]
  },
  {
   "cell_type": "markdown",
   "metadata": {},
   "source": [
    "### 05) WAP to demonstrate valueError and indexError with example."
   ]
  },
  {
   "cell_type": "code",
   "execution_count": 77,
   "metadata": {},
   "outputs": [
    {
     "name": "stdout",
     "output_type": "stream",
     "text": [
      "list index out of range\n",
      "Value Error or/and Type error are raised\n"
     ]
    }
   ],
   "source": [
    "try:\n",
    "    x = int(input(\"Enter Number :\"))\n",
    "    lst = []\n",
    "    lst.append(x)\n",
    "    print(lst[1])\n",
    "except (ValueError,IndexError) as e:\n",
    "    print(e)\n",
    "    print(\"Value Error or/and Type error are raised\")"
   ]
  },
  {
   "cell_type": "markdown",
   "metadata": {},
   "source": [
    "### 06) WAP to domonstrate else  and finally block."
   ]
  },
  {
   "cell_type": "code",
   "execution_count": 81,
   "metadata": {},
   "outputs": [
    {
     "name": "stdout",
     "output_type": "stream",
     "text": [
      "list index out of range\n",
      "Value Error or/and Type error are raised\n",
      "Completed...\n"
     ]
    }
   ],
   "source": [
    "try:\n",
    "    x = int(input(\"Enter Number :\"))\n",
    "    index = int(input(\"Enter Index : \"))\n",
    "    lst = []\n",
    "    lst.append(x)\n",
    "    print(lst[index])\n",
    "except IndexError as e:\n",
    "    print(e)\n",
    "    print(\"Value Error or/and Type error are raised\")\n",
    "else:\n",
    "    print(\"Hello\")\n",
    "finally:\n",
    "    print(\"Completed...\")"
   ]
  },
  {
   "cell_type": "markdown",
   "metadata": {},
   "source": [
    "### 07) Create a short program that prompts the user for a list of grades separated by commas. Split the string into individual grades and use a list comprehension to convert each string to an integer. You should use a try statement to inform the user when the values they entered cannot be converted."
   ]
  },
  {
   "cell_type": "code",
   "execution_count": 90,
   "metadata": {},
   "outputs": [
    {
     "name": "stdout",
     "output_type": "stream",
     "text": [
      "ValueError\n"
     ]
    }
   ],
   "source": [
    "l = input(\"Enter any String: \").split(',')\n",
    "try:\n",
    "    n = [int(i) for i in l]\n",
    "    print(n)\n",
    "except ValueError:\n",
    "    print(\"ValueError\")"
   ]
  },
  {
   "cell_type": "markdown",
   "metadata": {},
   "source": []
  },
  {
   "cell_type": "markdown",
   "metadata": {},
   "source": [
    "# B"
   ]
  },
  {
   "cell_type": "markdown",
   "metadata": {},
   "source": [
    "### 01) WAP to Raising User Generated Exception."
   ]
  },
  {
   "cell_type": "code",
   "execution_count": 92,
   "metadata": {},
   "outputs": [
    {
     "name": "stdout",
     "output_type": "stream",
     "text": [
      "Zero Division Error\n"
     ]
    }
   ],
   "source": [
    "try:\n",
    "    raise ZeroDivisionError\n",
    "except ZeroDivisionError:\n",
    "    print(\"Zero Division Error\")"
   ]
  },
  {
   "cell_type": "markdown",
   "metadata": {},
   "source": [
    "### 02) WAP to raise your custom Exception."
   ]
  },
  {
   "cell_type": "code",
   "execution_count": 123,
   "metadata": {},
   "outputs": [
    {
     "name": "stdout",
     "output_type": "stream",
     "text": [
      "10\n",
      "Not Prime\n",
      "Prime\n"
     ]
    }
   ],
   "source": [
    "# class PrimeNumberException(Exception):\n",
    "#     pass\n",
    "# try:\n",
    "#     a = int(input(\"Enter Any Number : \"))\n",
    "#     print(a)\n",
    "#     for i in  range(2,(a//2)+1):\n",
    "#         if  a % i == 0:\n",
    "#             print(\"Not Prime\")\n",
    "#         else:\n",
    "#            raise PrimeNumberException(\"Prime\")\n",
    "# except PrimeNumberException as e:\n",
    "#     print(e)"
   ]
  },
  {
   "cell_type": "code",
   "execution_count": 130,
   "metadata": {},
   "outputs": [
    {
     "name": "stdout",
     "output_type": "stream",
     "text": [
      "1\n",
      "ODD\n"
     ]
    }
   ],
   "source": [
    "class OddNumberException(Exception):\n",
    "    pass\n",
    "try:\n",
    "    a = int(input(\"Enter Any Number : \"))\n",
    "    print(a)\n",
    "    if a % 2 == 0:\n",
    "        print(\"EVEN\")\n",
    "    else:\n",
    "        raise OddNumberException(\"ODD\")\n",
    "except OddNumberException as e:\n",
    "    print(e)"
   ]
  }
 ],
 "metadata": {
  "kernelspec": {
   "display_name": "Python 3",
   "language": "python",
   "name": "python3"
  },
  "language_info": {
   "codemirror_mode": {
    "name": "ipython",
    "version": 3
   },
   "file_extension": ".py",
   "mimetype": "text/x-python",
   "name": "python",
   "nbconvert_exporter": "python",
   "pygments_lexer": "ipython3",
   "version": "3.11.0"
  },
  "vscode": {
   "interpreter": {
    "hash": "b5a6f1e0cd3542f02413380ed3d635a72415a672d8300e73b4be76e94015e3a8"
   }
  }
 },
 "nbformat": 4,
 "nbformat_minor": 4
}
