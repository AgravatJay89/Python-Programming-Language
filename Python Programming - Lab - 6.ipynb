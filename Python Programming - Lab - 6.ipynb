{
 "cells": [
  {
   "attachments": {},
   "cell_type": "markdown",
   "metadata": {},
   "source": [
    "<a href='https://www.darshan.ac.in/'> <img src='https://www.darshan.ac.in/Content/media/DU_Logo.svg' width=\"250\" height=\"300\"/></a>\n",
    "<pre>\n",
    "<center><b><h1>Python Programming - 2101CS405</b></center>\n",
    "<center><b><h1>Lab - 6</b></center>    \n",
    "<pre>"
   ]
  },
  {
   "cell_type": "markdown",
   "metadata": {},
   "source": [
    "# Tuples, dictionary, set"
   ]
  },
  {
   "cell_type": "markdown",
   "metadata": {},
   "source": [
    "# A"
   ]
  },
  {
   "cell_type": "markdown",
   "metadata": {},
   "source": [
    "### 01) WAP to sort python dictionary by key or value."
   ]
  },
  {
   "cell_type": "code",
   "execution_count": 1,
   "metadata": {},
   "outputs": [
    {
     "name": "stdout",
     "output_type": "stream",
     "text": [
      "{'y': 70, 'a': 75, 'J': 80}\n"
     ]
    }
   ],
   "source": [
    "diet = {'J':80,'a':75,'y':70}\n",
    "sorted_diet = dict(sorted(diet.items(),key=lambda x : x[0],reverse =True))\n",
    "print(sorted_diet)"
   ]
  },
  {
   "cell_type": "code",
   "execution_count": 4,
   "metadata": {},
   "outputs": [
    {
     "name": "stdout",
     "output_type": "stream",
     "text": [
      "Jay\n",
      "Bhavya\n",
      "Ajay\n",
      "{'Jay': 80, 'Bhavya': 75, 'Ajay': 70}\n"
     ]
    }
   ],
   "source": [
    "diet = {'Jay':80,'Bhavya':75,'Ajay':70}\n",
    "for i in diet.keys():\n",
    "    print(i)\n",
    "print(diet)"
   ]
  },
  {
   "cell_type": "markdown",
   "metadata": {},
   "source": [
    "### 02) WAP to merge two dictionaries given by user."
   ]
  },
  {
   "cell_type": "code",
   "execution_count": 11,
   "metadata": {},
   "outputs": [
    {
     "name": "stdout",
     "output_type": "stream",
     "text": [
      "{'J': 80, 'a': 75, 'y': 70, 'v': 90, 'i': 85, 'd': 100}\n"
     ]
    }
   ],
   "source": [
    "diet1 = {'J':80,'a':75,'y':70}\n",
    "diet2 = {'v':90,'i':85,'d':100}\n",
    "print(diet1 | diet2)"
   ]
  },
  {
   "cell_type": "markdown",
   "metadata": {},
   "source": [
    "### 03) WAP to find tuples that have all elements divisible by K from a list of tuples."
   ]
  },
  {
   "cell_type": "code",
   "execution_count": 1,
   "metadata": {},
   "outputs": [],
   "source": [
    "list = []\n",
    "n = int(input(\"Enter Size Of Tuples :\"))\n",
    "for i in range(n):\n",
    "    value = int(input(\"Enter Value In Integer : \"))\n",
    "    "
   ]
  },
  {
   "cell_type": "markdown",
   "metadata": {},
   "source": [
    "### 04) WAP to find Tuples with positive elements in List of tuples."
   ]
  },
  {
   "cell_type": "code",
   "execution_count": 23,
   "metadata": {},
   "outputs": [
    {
     "name": "stdout",
     "output_type": "stream",
     "text": [
      "(10, 5, 20)\n",
      "(1, 2, 3)\n"
     ]
    }
   ],
   "source": [
    "li = [(10,5,20),(-10,20,30),(1,2,3)]\n",
    "for i in li:\n",
    "    count = 0\n",
    "    temp = 0\n",
    "    for j in i:\n",
    "        temp+=1\n",
    "        if j >= 0:\n",
    "            count +=1\n",
    "    if temp==count:\n",
    "        print(i)"
   ]
  },
  {
   "cell_type": "markdown",
   "metadata": {},
   "source": [
    "### 05) WAP which perform union of two sets."
   ]
  },
  {
   "cell_type": "code",
   "execution_count": 25,
   "metadata": {},
   "outputs": [
    {
     "data": {
      "text/plain": [
       "{0, 1, 2, 3, 4, 5, 6, 7, 8, 9}"
      ]
     },
     "execution_count": 25,
     "metadata": {},
     "output_type": "execute_result"
    }
   ],
   "source": [
    "set1 = {0,1,2,3,4}\n",
    "set2 = {5,6,7,8,9}\n",
    "\n",
    "set1.union(set2)"
   ]
  },
  {
   "cell_type": "markdown",
   "metadata": {},
   "source": [
    "# B"
   ]
  },
  {
   "cell_type": "markdown",
   "metadata": {},
   "source": [
    "### 01) WAP to convert binary tuple into integer."
   ]
  },
  {
   "cell_type": "code",
   "execution_count": 7,
   "metadata": {},
   "outputs": [
    {
     "name": "stdout",
     "output_type": "stream",
     "text": [
      "('1', '1')\n",
      "3\n"
     ]
    }
   ],
   "source": [
    "tup = ('1','1')\n",
    "print(tup)\n",
    "tup_str = str(tup)\n",
    "a= \"\".join(tup)\n",
    "# print(a)\n",
    "x= int(a,2)\n",
    "print(x)\n"
   ]
  },
  {
   "cell_type": "markdown",
   "metadata": {},
   "source": [
    "### 02) WAP to count frequency in list by dictionary."
   ]
  },
  {
   "cell_type": "code",
   "execution_count": 1,
   "metadata": {},
   "outputs": [
    {
     "data": {
      "text/plain": [
       "{10: 3, 20: 2, 30: 1}"
      ]
     },
     "execution_count": 1,
     "metadata": {},
     "output_type": "execute_result"
    }
   ],
   "source": [
    "frequency = {}\n",
    "list1 = [10,10,10,20,20,30]\n",
    "for i in list1:\n",
    "    if i in frequency:\n",
    "        frequency[i]+=1\n",
    "    else:\n",
    "        frequency[i]=1\n",
    "    \n",
    "frequency"
   ]
  },
  {
   "cell_type": "markdown",
   "metadata": {},
   "source": [
    "### 03) WAP to remove all the duplicate words from the list using dictionary."
   ]
  },
  {
   "cell_type": "code",
   "execution_count": 3,
   "metadata": {},
   "outputs": [
    {
     "name": "stdout",
     "output_type": "stream",
     "text": [
      "['apple', 'banana', 'cherry']\n"
     ]
    }
   ],
   "source": [
    "def remove_duplicates(words):\n",
    "    \"\"\"\n",
    "    Removes all the duplicate words from a list using a dictionary\n",
    "    \"\"\"\n",
    "    # Create an empty dictionary to store the unique words\n",
    "    unique_words = {}\n",
    "\n",
    "    # Loop through each word in the list\n",
    "    for word in words:\n",
    "        # If the word is not already in the dictionary, add it\n",
    "        if word not in unique_words:\n",
    "            unique_words[word] = True\n",
    "\n",
    "    # Return the keys of the dictionary as a list of unique words\n",
    "    return list(unique_words.keys())\n",
    "\n",
    "# Example usage\n",
    "words = ['apple', 'banana', 'cherry', 'banana', 'apple', 'apple']\n",
    "unique_words = remove_duplicates(words)\n",
    "print(unique_words)  # Outputs: ['apple', 'banana', 'cherry']\n"
   ]
  }
 ],
 "metadata": {
  "kernelspec": {
   "display_name": "Python 3",
   "language": "python",
   "name": "python3"
  },
  "language_info": {
   "codemirror_mode": {
    "name": "ipython",
    "version": 3
   },
   "file_extension": ".py",
   "mimetype": "text/x-python",
   "name": "python",
   "nbconvert_exporter": "python",
   "pygments_lexer": "ipython3",
   "version": "3.11.0"
  },
  "vscode": {
   "interpreter": {
    "hash": "b5a6f1e0cd3542f02413380ed3d635a72415a672d8300e73b4be76e94015e3a8"
   }
  }
 },
 "nbformat": 4,
 "nbformat_minor": 4
}
