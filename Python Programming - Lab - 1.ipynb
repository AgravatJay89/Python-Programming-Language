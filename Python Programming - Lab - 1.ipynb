{
 "cells": [
  {
   "cell_type": "markdown",
   "metadata": {},
   "source": [
    "<a href='https://www.darshan.ac.in/'> <img src='https://www.darshan.ac.in/Content/media/DU_Logo.svg' width=\"250\" height=\"300\"/></a>\n",
    "<pre>\n",
    "<center><b><h1>Python Programming - 2101CS405</b></center>\n",
    "<center><b><h1>Lab - 1</b></center>    \n",
    "<pre>"
   ]
  },
  {
   "cell_type": "markdown",
   "metadata": {},
   "source": [
    "### 01) WAP to print “Hello World”"
   ]
  },
  {
   "cell_type": "code",
   "execution_count": 1,
   "metadata": {},
   "outputs": [
    {
     "name": "stdout",
     "output_type": "stream",
     "text": [
      "Hello World\n"
     ]
    }
   ],
   "source": [
    "print(\"Hello World\")"
   ]
  },
  {
   "cell_type": "markdown",
   "metadata": {},
   "source": [
    "### 02) WAP to print your address i) using single print ii) using multiple print"
   ]
  },
  {
   "cell_type": "code",
   "execution_count": 2,
   "metadata": {},
   "outputs": [
    {
     "name": "stdout",
     "output_type": "stream",
     "text": [
      "Bileshwar\n"
     ]
    }
   ],
   "source": [
    "print(\"Utkarsh Boys Hostel, Hadala, rajkot-morbi highway,Gujarat, 360003\")"
   ]
  },
  {
   "cell_type": "code",
   "execution_count": 2,
   "metadata": {},
   "outputs": [
    {
     "name": "stdout",
     "output_type": "stream",
     "text": [
      "utkarsh Boys Hostel, \n",
      "Hadala,\n",
      "rajkot-morbi highway,\n",
      "Gujarat,\n",
      "360003\n"
     ]
    }
   ],
   "source": [
    "print(\"Utkarsh Boys Hostel, \\nHadala,\\nrajkot-morbi highway,\\nGujarat,\\n360003\")"
   ]
  },
  {
   "cell_type": "markdown",
   "metadata": {},
   "source": [
    "### 03) WAP to print addition of 2 numbers (without input function)"
   ]
  },
  {
   "cell_type": "code",
   "execution_count": 1,
   "metadata": {},
   "outputs": [
    {
     "name": "stdout",
     "output_type": "stream",
     "text": [
      "30\n"
     ]
    }
   ],
   "source": [
    "a=10\n",
    "b=20\n",
    "addition = a + b\n",
    "print(addition)"
   ]
  },
  {
   "cell_type": "markdown",
   "metadata": {},
   "source": [
    "### 04) WAP to calculate and print average of 2 numbers (without input function)"
   ]
  },
  {
   "cell_type": "code",
   "execution_count": 5,
   "metadata": {},
   "outputs": [
    {
     "name": "stdout",
     "output_type": "stream",
     "text": [
      "15.0\n"
     ]
    }
   ],
   "source": [
    "a=10\n",
    "b=20\n",
    "average = (a + b)/2\n",
    "print(average)"
   ]
  },
  {
   "cell_type": "markdown",
   "metadata": {},
   "source": [
    "### 05) WAP to add two number entered by user."
   ]
  },
  {
   "cell_type": "code",
   "execution_count": 2,
   "metadata": {},
   "outputs": [
    {
     "name": "stdout",
     "output_type": "stream",
     "text": [
      "Enter First Number :10\n",
      "Enter Second Number : 20\n",
      "30\n"
     ]
    }
   ],
   "source": [
    "a = int(input(\"Enter First Number :\"))\n",
    "b = int(input(\"Enter Second Number : \"))\n",
    "c = a + b\n",
    "print(c)"
   ]
  },
  {
   "cell_type": "markdown",
   "metadata": {},
   "source": [
    "### 06) WAP to calculate simple interest."
   ]
  },
  {
   "cell_type": "code",
   "execution_count": 3,
   "metadata": {},
   "outputs": [
    {
     "name": "stdout",
     "output_type": "stream",
     "text": [
      "Enter First Number :20\n",
      "Enter Second Number : 30\n",
      "Enter First Number :50\n",
      "300.0\n"
     ]
    }
   ],
   "source": [
    "p = int(input(\"Enter First Number :\"))\n",
    "r = int(input(\"Enter Second Number : \"))\n",
    "n = int(input(\"Enter First Number :\"))\n",
    "\n",
    "interest = (p*r*n)/100\n",
    "\n",
    "print(interest)"
   ]
  },
  {
   "cell_type": "markdown",
   "metadata": {},
   "source": [
    "### 07) WAP Calculate Area and Circumfrence of Circle"
   ]
  },
  {
   "cell_type": "code",
   "execution_count": 6,
   "metadata": {},
   "outputs": [
    {
     "name": "stdout",
     "output_type": "stream",
     "text": [
      "Enter Radius : 5\n",
      "Area : 78.5\n",
      "Circumference : 31.400000000000002\n"
     ]
    }
   ],
   "source": [
    "r = int(input(\"Enter Radius : \"))\n",
    "\n",
    "Area = 3.14 * r * r\n",
    "Circumference = 2 * 3.14 * r\n",
    "print(\"Area :\",Area)\n",
    "print(\"Circumference :\",Circumference)\n"
   ]
  },
  {
   "cell_type": "markdown",
   "metadata": {},
   "source": [
    "### 08) WAP to print Multiplication table of given number without using loops."
   ]
  },
  {
   "cell_type": "code",
   "execution_count": 7,
   "metadata": {},
   "outputs": [
    {
     "name": "stdout",
     "output_type": "stream",
     "text": [
      "Enter Any Number : 5\n",
      "5 10 15 20 25 30 35 40 45 50\n"
     ]
    }
   ],
   "source": [
    "num = int(input(\"Enter Any Number : \"))\n",
    "\n",
    "print(num*1,num*2,num*3,num*4,num*5,num*6,num*7,num*8,num*9,num*10)"
   ]
  },
  {
   "cell_type": "markdown",
   "metadata": {},
   "source": [
    "### 09) WAP to calculate Area of Triangle (hint: a = h * b * 0.5)"
   ]
  },
  {
   "cell_type": "code",
   "execution_count": 8,
   "metadata": {},
   "outputs": [
    {
     "name": "stdout",
     "output_type": "stream",
     "text": [
      "Enter Hight : 3\n",
      "Enter Base : 4\n",
      "Area Of Triangle : 6.0\n"
     ]
    }
   ],
   "source": [
    "Hight = int(input(\"Enter Hight : \"))\n",
    "Base = int(input(\"Enter Base : \"))\n",
    "\n",
    "Area = Hight * Base * 0.5\n",
    "\n",
    "print(\"Area Of Triangle :\",Area)"
   ]
  },
  {
   "cell_type": "markdown",
   "metadata": {},
   "source": [
    "### 10) WAP to convert degree to Fahrenheit and vice versa."
   ]
  },
  {
   "cell_type": "code",
   "execution_count": 18,
   "metadata": {},
   "outputs": [
    {
     "name": "stdout",
     "output_type": "stream",
     "text": [
      "Degree : -12.222222222222221 C\n",
      "Fahrenheit : 68.0 F\n"
     ]
    }
   ],
   "source": [
    "Fahrenheit = int(input(\"Enter Degree in F : \"))\n",
    "Degree = int(input(\"Enter Degree in C : \"))\n",
    "Deg = ((Fahrenheit - 32) * 5)/9\n",
    "print(\"Degree :\",Deg,\"C\")\n",
    "\n",
    "de = (Degree * 9/5)+ 32\n",
    "print(\"Fahrenheit :\",de, \"F\")\n",
    "\n"
   ]
  },
  {
   "cell_type": "markdown",
   "metadata": {},
   "source": [
    "### 11) WAP to calculate total marks and Percentage."
   ]
  },
  {
   "cell_type": "code",
   "execution_count": 12,
   "metadata": {},
   "outputs": [
    {
     "name": "stdout",
     "output_type": "stream",
     "text": [
      "Enter First Sub : 50\n",
      "Enter First Sub : 50\n",
      "Enter First Sub : 50\n",
      "Total Is : 150\n",
      "Percentage Is : 50.0\n"
     ]
    }
   ],
   "source": [
    "sub1 = int(input(\"Enter First Sub : \"))\n",
    "sub2 = int(input(\"Enter First Sub : \"))\n",
    "sub3 = int(input(\"Enter First Sub : \"))\n",
    "\n",
    "print(\"Total Is :\",sub1 + sub2 + sub3)\n",
    "print(\"Percentage Is :\",(sub1 + sub2 + sub3)/3)\n"
   ]
  },
  {
   "cell_type": "markdown",
   "metadata": {},
   "source": [
    "### 12) Compute distance between two points taking input from the user (Pythagorean Theorem)."
   ]
  },
  {
   "cell_type": "code",
   "execution_count": 13,
   "metadata": {},
   "outputs": [
    {
     "name": "stdout",
     "output_type": "stream",
     "text": [
      "Enter The Value Of AB :3\n",
      "Enter The Value Of BC :4\n",
      "5.0\n"
     ]
    }
   ],
   "source": [
    "from math import sqrt\n",
    "\n",
    "AB = int(input(\"Enter The Value Of AB :\"))\n",
    "BC = int(input(\"Enter The Value Of BC :\"))\n",
    "\n",
    "AC = sqrt(AB*AB + BC*BC)\n",
    "\n",
    "print(AC)"
   ]
  },
  {
   "cell_type": "markdown",
   "metadata": {},
   "source": [
    "### 13) WAP to convert seconds into hours, minutes & seconds and print in HH:MM:SS\n",
    "[e.g. 10000 seconds mean 2:46:40 (2 Hours, 46 Minutes, 40Seconds)]"
   ]
  },
  {
   "cell_type": "code",
   "execution_count": 15,
   "metadata": {},
   "outputs": [
    {
     "name": "stdout",
     "output_type": "stream",
     "text": [
      "Enter Seconds : 10000\n",
      "TIME =>  2 : 46 : 40\n"
     ]
    }
   ],
   "source": [
    "Second = int(input(\"Enter Seconds : \"))\n",
    "\n",
    "H = Second // 3600\n",
    "M = (Second % 3600)//60\n",
    "S = ((Second % 3600)%60)\n",
    "\n",
    "\n",
    "print(\"TIME => \",H,\":\",M,\":\",S)"
   ]
  },
  {
   "cell_type": "markdown",
   "metadata": {},
   "source": [
    "### 14) WAP to enter distance into kilometer and convert it into meter, feet,inches, and centimeter"
   ]
  },
  {
   "cell_type": "code",
   "execution_count": 16,
   "metadata": {},
   "outputs": [
    {
     "name": "stdout",
     "output_type": "stream",
     "text": [
      "Enter Kilometers : 1\n",
      "Meter : 1000      feet : 3254.0      inches : 39048.0\n"
     ]
    }
   ],
   "source": [
    "KM = int(input(\"Enter Kilometers : \"))\n",
    "\n",
    "Meter = KM * 1000\n",
    "feet = KM * 1000 * 3.254\n",
    "inches = KM * 1000 * 3.254 * 12\n",
    "\n",
    "print(\"Meter :\",Meter,\"    \",\"feet :\",feet,\"    \",\"inches :\",inches)"
   ]
  },
  {
   "cell_type": "code",
   "execution_count": null,
   "metadata": {},
   "outputs": [],
   "source": []
  }
 ],
 "metadata": {
  "kernelspec": {
   "display_name": "Python 3 (ipykernel)",
   "language": "python",
   "name": "python3"
  },
  "language_info": {
   "codemirror_mode": {
    "name": "ipython",
    "version": 3
   },
   "file_extension": ".py",
   "mimetype": "text/x-python",
   "name": "python",
   "nbconvert_exporter": "python",
   "pygments_lexer": "ipython3",
   "version": "3.11.0 (main, Oct 24 2022, 18:26:48) [MSC v.1933 64 bit (AMD64)]"
  },
  "vscode": {
   "interpreter": {
    "hash": "b5a6f1e0cd3542f02413380ed3d635a72415a672d8300e73b4be76e94015e3a8"
   }
  }
 },
 "nbformat": 4,
 "nbformat_minor": 4
}
