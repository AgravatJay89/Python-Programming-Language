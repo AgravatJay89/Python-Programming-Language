{
 "cells": [
  {
   "cell_type": "markdown",
   "metadata": {},
   "source": [
    "<a href='https://www.darshan.ac.in/'> <img src='https://www.darshan.ac.in/Content/media/DU_Logo.svg' width=\"250\" height=\"300\"/></a>\n",
    "<pre>\n",
    "<center><b><h1>Python Programming - 2101CS405</b></center>\n",
    "<center><b><h1>Lab - 12</b></center>    \n",
    "<pre>"
   ]
  },
  {
   "cell_type": "markdown",
   "metadata": {},
   "source": [
    "# OOP"
   ]
  },
  {
   "cell_type": "markdown",
   "metadata": {},
   "source": [
    "### 01) Write a Program to create a class by name Students, and initialize attributes like name, age, and grade while creating an object."
   ]
  },
  {
   "cell_type": "code",
   "execution_count": 9,
   "metadata": {},
   "outputs": [
    {
     "name": "stdout",
     "output_type": "stream",
     "text": [
      "Jay\n",
      "19\n",
      "A++\n"
     ]
    }
   ],
   "source": [
    "class Students:\n",
    "    Name = \"Jay\"\n",
    "    Age = 19\n",
    "    Grade = \"A++\"\n",
    "    def __init__(self,Name,Age,Grade):\n",
    "        self.Name = Name\n",
    "        self.Age = Age\n",
    "        self.Grade = Grade\n",
    "        \n",
    "\n",
    "        \n",
    "print(Students.Name)\n",
    "print(Students.Age)\n",
    "print(Students.Grade)"
   ]
  },
  {
   "cell_type": "markdown",
   "metadata": {},
   "source": [
    "### 02) Create a class named Bank_Account with Account_No, User_Name, Email,Account_Type and Account_Balance data members. Also create a method GetAccountDetails() and DisplayAccountDetails(). Create main method to demonstrate the Bank_Account class."
   ]
  },
  {
   "cell_type": "code",
   "execution_count": 17,
   "metadata": {},
   "outputs": [
    {
     "name": "stdout",
     "output_type": "stream",
     "text": [
      "Enter Account Number10203040\n",
      "Enter User NameJay Agravat\n",
      "Enter Email21010101006@darshan.ac.in\n",
      "Enter Account Typecurent\n",
      "Enter Account Balance10000.0\n",
      "---- Account Detail ----\n",
      "Account_No =  10203040\n",
      "User_Name =  Jay Agravat\n",
      "Email =  21010101006@darshan.ac.in\n",
      "Account_Type =  curent\n",
      "Account_Balance =  10000.0\n"
     ]
    }
   ],
   "source": [
    "class Bank_Account:\n",
    "    Account_No = 0\n",
    "    User_Name = \"\"\n",
    "    Email = \"\"\n",
    "    Account_Type = \"\"\n",
    "    Account_Balance = 0\n",
    "    \n",
    "    def GetAccountDetails(self):\n",
    "        self.Account_No = int(input(\"Enter Account Number : \"))\n",
    "        self.User_Name = input(\"Enter User Name : \")\n",
    "        self.Email = input(\"Enter Email : \")\n",
    "        self.Account_Type = input(\"Enter Account Type : \")\n",
    "        self.Account_Balance = float(input(\"Enter Account Balance : \"))\n",
    "        \n",
    "    def DisplayAccountDetails(self):\n",
    "        print(\"Account_No = \",self.Account_No)\n",
    "        print(\"User_Name = \",self.User_Name)\n",
    "        print(\"Email = \",self.Email)\n",
    "        print(\"Account_Type = \",self.Account_Type)\n",
    "        print(\"Account_Balance = \",self.Account_Balance)\n",
    "        \n",
    "    def Main(self):\n",
    "        self.GetAccountDetails()\n",
    "        \n",
    "        print(\"---- Account Detail ----\")\n",
    "        self.DisplayAccountDetails()\n",
    "        \n",
    "obj = Bank_Account()\n",
    "obj.Main()"
   ]
  },
  {
   "cell_type": "markdown",
   "metadata": {},
   "source": [
    "### 03) WAP to create Circle class with area and perimeter function to find area and perimeter of circle."
   ]
  },
  {
   "cell_type": "code",
   "execution_count": 24,
   "metadata": {},
   "outputs": [
    {
     "name": "stdout",
     "output_type": "stream",
     "text": [
      "Area :  78.5\n",
      "Area :  31.400000000000002\n"
     ]
    }
   ],
   "source": [
    "class Circle:\n",
    "    def __init__(self,radius):\n",
    "        self.radius = radius\n",
    "        \n",
    "    def area(self):\n",
    "        return 3.14 * (self.radius ** 2)\n",
    "    \n",
    "    def perimeter(self):\n",
    "        return 2 * 3.14 * self.radius\n",
    "    \n",
    "obj = Circle(5)\n",
    "print(\"Area : \" ,obj.area())\n",
    "print(\"Area : \" ,obj.perimeter())"
   ]
  },
  {
   "cell_type": "markdown",
   "metadata": {},
   "source": [
    "### 04) Create a class for employees that includes attributes such as name, age, salary, and methods to update and display employee information."
   ]
  },
  {
   "cell_type": "code",
   "execution_count": 5,
   "metadata": {},
   "outputs": [
    {
     "name": "stdout",
     "output_type": "stream",
     "text": [
      "Name =  Jay\n",
      "age =  19\n",
      "salary =  100000\n",
      "Are You Want To Update Data(only yes or no) : yes\n",
      "Enter Name : Jay Agravat\n",
      "Enter User Age : 19\n",
      "Enter Salary : 100000.00\n",
      "----UPDATED EMPLOYEES DETAIS----\n",
      "Name =  Jay Agravat\n",
      "age =  19\n",
      "salary =  100000.0\n",
      "----🙏🏻Thank You🙏🏻----\n"
     ]
    }
   ],
   "source": [
    "class Employees:\n",
    "    name = \"Jay\"\n",
    "    age = 19\n",
    "    salary = 100000\n",
    "    \n",
    "    def DisplayDetails(self):\n",
    "        print(\"Name = \",self.name)\n",
    "        print(\"age = \",self.age)\n",
    "        print(\"salary = \",self.salary)\n",
    "    \n",
    "    def UpdateDetails(self):\n",
    "        self.name = input(\"Enter Name : \")\n",
    "        self.age = int(input(\"Enter User Age : \"))\n",
    "        self.salary = float(input(\"Enter Salary : \"))\n",
    "        \n",
    "        print(\"----UPDATED EMPLOYEES DETAIS----\")\n",
    "        self.DisplayDetails()\n",
    "        \n",
    "obj = Employees()\n",
    "\n",
    "obj.DisplayDetails()\n",
    "\n",
    "permission = input(\"Are You Want To Update Data(only yes or no) : \")\n",
    "if permission == 'yes':\n",
    "    obj.UpdateDetails()\n",
    "    print(\"----🙏🏻Thank You🙏🏻----\")\n",
    "else:\n",
    "    print(\"----🙏🏻Thank You🙏🏻----\")"
   ]
  },
  {
   "cell_type": "markdown",
   "metadata": {},
   "source": [
    "### 05) Create a bank account class with methods to deposit, withdraw, and check balance."
   ]
  },
  {
   "cell_type": "code",
   "execution_count": 11,
   "metadata": {},
   "outputs": [
    {
     "name": "stdout",
     "output_type": "stream",
     "text": [
      "Deposite & Widrawal\n",
      "Enter Amount To The Deposite : 100000\n",
      "\n",
      "Amount Deposited :  100000.0\n",
      "Enter Amount To The Widrawal : 1200000\n",
      "## Insufficient Balance ##\n",
      "Net Available Balance :  100000.0\n"
     ]
    }
   ],
   "source": [
    "class Bank_Account:\n",
    "    \n",
    "    def __init__(self):\n",
    "        self.balance = 0\n",
    "        print(\"Deposite & Widrawal\")\n",
    "        \n",
    "    def deposite(self):\n",
    "        amount = float(input(\"Enter Amount To The Deposite : \"))\n",
    "        self.balance += amount\n",
    "        print(\"\\nAmount Deposited : \",amount)\n",
    "        \n",
    "    def Widrawal(self):\n",
    "        amount = float(input(\"Enter Amount To The Widrawal : \"))\n",
    "        \n",
    "        if self.balance>=amount:\n",
    "            self.balance -= amount\n",
    "            print(\"Widrawal :\",amount)\n",
    "        else:\n",
    "            print(\"## Insufficient Balance ##\")\n",
    "        \n",
    "    def Diplay(self):\n",
    "        print(\"Net Available Balance : \",self.balance)\n",
    "        \n",
    "obj = Bank_Account()\n",
    "\n",
    "obj.deposite()\n",
    "obj.Widrawal()\n",
    "obj.Diplay()"
   ]
  },
  {
   "cell_type": "markdown",
   "metadata": {},
   "source": [
    "### 06) Create a class for managing inventory that includes attributes such as item name, price, quantity, and methods to add, remove, and update items."
   ]
  },
  {
   "cell_type": "code",
   "execution_count": 1,
   "metadata": {},
   "outputs": [
    {
     "name": "stdout",
     "output_type": "stream",
     "text": [
      "10 Apple(s) added successfully.\n",
      "20 Banana(s) added successfully.\n",
      "Apple updated successfully.\n",
      "Banana removed successfully.\n",
      "Apple updated successfully.\n",
      "{'Apple': {'price': 0.6, 'quantity': 15}}\n"
     ]
    }
   ],
   "source": [
    "class Inventory:\n",
    "    def __init__(self):\n",
    "        self.items = {}\n",
    "\n",
    "    def add_item(self, item_name, price, quantity):\n",
    "        self.items[item_name] = {\"price\": price, \"quantity\": quantity}\n",
    "        print(f\"{quantity} {item_name}(s) added successfully.\")\n",
    "\n",
    "    def remove_item(self, item_name):\n",
    "        if item_name in self.items:\n",
    "            del self.items[item_name]\n",
    "            print(f\"{item_name} removed successfully.\")\n",
    "        else:\n",
    "            print(f\"{item_name} not found.\")\n",
    "\n",
    "    def update_item(self, item_name, price=None, quantity=None):\n",
    "        if item_name in self.items:\n",
    "            if price is not None:\n",
    "                self.items[item_name][\"price\"] = price\n",
    "            if quantity is not None:\n",
    "                self.items[item_name][\"quantity\"] = quantity\n",
    "            print(f\"{item_name} updated successfully.\")\n",
    "        else:\n",
    "            print(f\"{item_name} not found.\")\n",
    "\n",
    "\n",
    "# Create an Inventory object\n",
    "inventory1 = Inventory()\n",
    "\n",
    "# Add some items\n",
    "inventory1.add_item(\"Apple\", 0.5, 10)\n",
    "inventory1.add_item(\"Banana\", 0.25, 20)\n",
    "\n",
    "# Update an item's price\n",
    "inventory1.update_item(\"Apple\", 0.6)\n",
    "\n",
    "# Remove an item\n",
    "inventory1.remove_item(\"Banana\")\n",
    "\n",
    "# Update an item's quantity\n",
    "inventory1.update_item(\"Apple\", quantity=15)\n",
    "\n",
    "# Print the inventory\n",
    "print(inventory1.items)\n"
   ]
  },
  {
   "cell_type": "markdown",
   "metadata": {},
   "source": [
    "### 09) Create a Class with instance attributes"
   ]
  },
  {
   "cell_type": "code",
   "execution_count": 1,
   "metadata": {},
   "outputs": [
    {
     "name": "stdout",
     "output_type": "stream",
     "text": [
      "Name: Jay\n",
      "Age: 19\n",
      "Grade: A\n"
     ]
    }
   ],
   "source": [
    "class Student:\n",
    "    name=\"\"\n",
    "    age=0\n",
    "    grade=\"\"\n",
    "    def __init__(self, name, age, grade):\n",
    "        self.name = name\n",
    "        self.age = age\n",
    "        self.grade = grade\n",
    "\n",
    "# Create an object of the Student class and pass the required arguments\n",
    "obj = Student(\"Jay\", 19, \"A\")\n",
    "\n",
    "# Access the attributes of the student object\n",
    "print(\"Name:\", obj.name)\n",
    "print(\"Age:\", obj.age)\n",
    "print(\"Grade:\", obj.grade)"
   ]
  },
  {
   "cell_type": "markdown",
   "metadata": {},
   "source": [
    "### 07)\n",
    "Create one class student_kit <br>\n",
    "Within the student_kit class create one class attribute principal name ( Mr ABC ) <br>\n",
    "Create one attendance method and take input as number of days. <br>\n",
    "While creating student take input their name . <br>\n",
    "Create one certificate for each student by taking input of number of days present in class. <br>"
   ]
  },
  {
   "cell_type": "code",
   "execution_count": 2,
   "metadata": {},
   "outputs": [
    {
     "name": "stdout",
     "output_type": "stream",
     "text": [
      "Certificate of Attendance\n",
      "\n",
      "This is to certify that John has attended 10 days of class.\n"
     ]
    }
   ],
   "source": [
    "class student_kit:\n",
    "    principal_name = \"Mr ABC\"\n",
    "    \n",
    "    def __init__(self, name):\n",
    "        self.name = name\n",
    "        self.attendance = 0\n",
    "        \n",
    "    def mark_attendance(self, num_days):\n",
    "        self.attendance += num_days\n",
    "    \n",
    "    def generate_certificate(self):\n",
    "        num_days_present = self.attendance\n",
    "        certificate = f\"Certificate of Attendance\\n\\nThis is to certify that {self.name} has attended {num_days_present} days of class.\"\n",
    "        return certificate\n",
    "# Create a new student object\n",
    "s = student_kit(\"John\")\n",
    "\n",
    "# Mark attendance for 10 days\n",
    "s.mark_attendance(10)\n",
    "\n",
    "# Generate certificate\n",
    "certificate = s.generate_certificate()\n",
    "print(certificate)"
   ]
  },
  {
   "cell_type": "markdown",
   "metadata": {},
   "source": [
    "### 08) Define Time class with hour and minute as data member. Also define addition method to add two time objects."
   ]
  },
  {
   "cell_type": "code",
   "execution_count": 3,
   "metadata": {},
   "outputs": [
    {
     "name": "stdout",
     "output_type": "stream",
     "text": [
      "5:30 + 2:45 = 8:15\n"
     ]
    }
   ],
   "source": [
    "class Time:\n",
    "    def __init__(self, hour=0, minute=0):\n",
    "        self.hour = hour\n",
    "        self.minute = minute\n",
    "    \n",
    "    def add(self, other):\n",
    "        new_minute = self.minute + other.minute\n",
    "        if new_minute >= 60:\n",
    "            new_minute -= 60\n",
    "            carry_hour = 1\n",
    "        else:\n",
    "            carry_hour = 0\n",
    "        new_hour = self.hour + other.hour + carry_hour\n",
    "        if new_hour >= 24:\n",
    "            new_hour -= 24\n",
    "        return Time(new_hour, new_minute)\n",
    "# Create two time objects\n",
    "t1 = Time(5, 30)\n",
    "t2 = Time(2, 45)\n",
    "\n",
    "# Add the two time objects using the add method\n",
    "t3 = t1.add(t2)\n",
    "\n",
    "# Print the result\n",
    "print(f\"{t1.hour}:{t1.minute} + {t2.hour}:{t2.minute} = {t3.hour}:{t3.minute}\")"
   ]
  },
  {
   "cell_type": "markdown",
   "metadata": {},
   "source": [
    "### 09) WAP to demonstrate inheritance in python."
   ]
  },
  {
   "cell_type": "code",
   "execution_count": 4,
   "metadata": {},
   "outputs": [
    {
     "name": "stdout",
     "output_type": "stream",
     "text": [
      "Parent class\n",
      "child class\n"
     ]
    }
   ],
   "source": [
    "class Parent():\n",
    "    def first(self):\n",
    "        print(\"Parent class\")\n",
    "class Child(Parent):\n",
    "    def second(self):\n",
    "        print(\"child class\")\n",
    "        \n",
    "obj=Child()\n",
    "obj.first()\n",
    "obj.second()"
   ]
  },
  {
   "cell_type": "markdown",
   "metadata": {},
   "source": [
    "### 10) Create a child class Bus that will inherit all of the variables and methods of the Vehicle class\n",
    "class Vehicle:\n",
    "\n",
    "    def __init__(self, name, max_speed, mileage):\n",
    "        self.name = name\n",
    "        self.max_speed = max_speed\n",
    "        self.mileage = mileage\n",
    "        \n",
    "Create a Bus object that will inherit all of the variables and methods of the parent Vehicle class and display it.        "
   ]
  },
  {
   "cell_type": "code",
   "execution_count": 5,
   "metadata": {},
   "outputs": [
    {
     "name": "stdout",
     "output_type": "stream",
     "text": [
      "Name: School Bus, Max Speed: 60, Mileage: 12\n"
     ]
    }
   ],
   "source": [
    "class Vehicle:\n",
    "    def __init__(self, name, max_speed, mileage):\n",
    "        self.name = name\n",
    "        self.max_speed = max_speed\n",
    "        self.mileage = mileage\n",
    "    \n",
    "    def display_info(self):\n",
    "        print(f\"Name: {self.name}, Max Speed: {self.max_speed}, Mileage: {self.mileage}\")\n",
    "\n",
    "class Bus(Vehicle):\n",
    "    pass\n",
    "\n",
    "# Create a Bus object and display its information\n",
    "bus = Bus(\"School Bus\", 60, 12)\n",
    "bus.display_info()"
   ]
  },
  {
   "cell_type": "markdown",
   "metadata": {},
   "source": [
    "### 11)  Create a class hierarchy for different types of animals, with a parent Animal class and child classes for specific animals like Cat, Dog, and Bird."
   ]
  },
  {
   "cell_type": "code",
   "execution_count": 6,
   "metadata": {},
   "outputs": [
    {
     "name": "stdout",
     "output_type": "stream",
     "text": [
      "Meow\n",
      "Woof\n",
      "Chirp\n"
     ]
    }
   ],
   "source": [
    "class Animal:\n",
    "    def __init__(self, name, species):\n",
    "        self.name = name\n",
    "        self.species = species\n",
    "    \n",
    "    def speak(self):\n",
    "        pass\n",
    "\n",
    "class Cat(Animal):\n",
    "    def __init__(self, name):\n",
    "        super().__init__(name, \"cat\")\n",
    "    \n",
    "    def speak(self):\n",
    "        print(\"Meow\")\n",
    "\n",
    "class Dog(Animal):\n",
    "    def __init__(self, name):\n",
    "        super().__init__(name, \"dog\")\n",
    "    \n",
    "    def speak(self):\n",
    "        print(\"Woof\")\n",
    "\n",
    "class Bird(Animal):\n",
    "    def __init__(self, name):\n",
    "        super().__init__(name, \"bird\")\n",
    "    \n",
    "    def speak(self):\n",
    "        print(\"Chirp\")\n",
    "\n",
    "# Example usage\n",
    "cat = Cat(\"Whiskers\")\n",
    "dog = Dog(\"Fido\")\n",
    "bird = Bird(\"Tweety\")\n",
    "\n",
    "cat.speak() \n",
    "dog.speak() \n",
    "bird.speak() "
   ]
  },
  {
   "cell_type": "markdown",
   "metadata": {},
   "source": [
    "### 12) Create a class hierarchy for different types of vehicles, with a parent Vehicle class and child classes for specific vehicles like Car, Truck, and Motorcycle."
   ]
  },
  {
   "cell_type": "code",
   "execution_count": 8,
   "metadata": {},
   "outputs": [
    {
     "name": "stdout",
     "output_type": "stream",
     "text": [
      "Starting the vehicle.\n",
      "Put the key in the ignition and turn it to start the car.\n",
      "Starting the vehicle.\n",
      "Turn the key to start the truck.\n",
      "Starting the vehicle.\n",
      "Push the starter button to start the motorcycle.\n"
     ]
    }
   ],
   "source": [
    "class Vehicle:\n",
    "    def __init__(self, make, model, year):\n",
    "        self.make = make\n",
    "        self.model = model\n",
    "        self.year = year\n",
    "    \n",
    "    def start(self):\n",
    "        print(\"Starting the vehicle.\")\n",
    "\n",
    "class Car(Vehicle):\n",
    "    def __init__(self, make, model, year, num_doors):\n",
    "        super().__init__(make, model, year)\n",
    "        self.num_doors = num_doors\n",
    "    \n",
    "    def start(self):\n",
    "        super().start()\n",
    "        print(\"Put the key in the ignition and turn it to start the car.\")\n",
    "\n",
    "class Truck(Vehicle):\n",
    "    def __init__(self, make, model, year, payload_capacity):\n",
    "        super().__init__(make, model, year)\n",
    "        self.payload_capacity = payload_capacity\n",
    "    \n",
    "    def start(self):\n",
    "        super().start()\n",
    "        print(\"Turn the key to start the truck.\")\n",
    "\n",
    "class Motorcycle(Vehicle):\n",
    "    def __init__(self, make, model, year):\n",
    "        super().__init__(make, model, year)\n",
    "    \n",
    "    def start(self):\n",
    "        super().start()\n",
    "        print(\"Push the starter button to start the motorcycle.\")\n",
    "\n",
    "# Create some vehicle objects and start them\n",
    "car = Car(\"Toyota\", \"Camry\", 2022, 4)\n",
    "car.start()\n",
    "\n",
    "truck = Truck(\"Ford\", \"F-150\", 2021, 1500)\n",
    "truck.start()\n",
    "\n",
    "motorcycle = Motorcycle(\"Harley-Davidson\", \"Sportster\", 2019)\n",
    "motorcycle.start()"
   ]
  },
  {
   "cell_type": "markdown",
   "metadata": {},
   "source": [
    "### 13)  Create a class hierarchy for different types of bank accounts, with a parent Account class and child classes for specific account types like Checking, Savings, and Credit."
   ]
  },
  {
   "cell_type": "code",
   "execution_count": 9,
   "metadata": {},
   "outputs": [
    {
     "name": "stdout",
     "output_type": "stream",
     "text": [
      "500\n",
      "5050.0\n",
      "-300\n"
     ]
    }
   ],
   "source": [
    "class Account:\n",
    "    def __init__(self, account_number, balance):\n",
    "        self.account_number = account_number\n",
    "        self.balance = balance\n",
    "    \n",
    "    def deposit(self, amount):\n",
    "        self.balance += amount\n",
    "    \n",
    "    def withdraw(self, amount):\n",
    "        if self.balance >= amount:\n",
    "            self.balance -= amount\n",
    "        else:\n",
    "            print(\"Insufficient funds\")\n",
    "    \n",
    "    def get_balance(self):\n",
    "        return self.balance\n",
    "\n",
    "class Checking(Account):\n",
    "    def __init__(self, account_number, balance):\n",
    "        super().__init__(account_number, balance)\n",
    "        self.transaction_limit = 3\n",
    "        self.transaction_count = 0\n",
    "    \n",
    "    def withdraw(self, amount):\n",
    "        if self.transaction_count < self.transaction_limit:\n",
    "            super().withdraw(amount)\n",
    "            self.transaction_count += 1\n",
    "        else:\n",
    "            print(\"Transaction limit exceeded.\")\n",
    "    \n",
    "    def reset_transactions(self):\n",
    "        self.transaction_count = 0\n",
    "\n",
    "class Savings(Account):\n",
    "    def __init__(self, account_number, balance):\n",
    "        super().__init__(account_number, balance)\n",
    "        self.interest_rate = 0.01\n",
    "    \n",
    "    def add_interest(self):\n",
    "        interest = self.balance * self.interest_rate\n",
    "        self.balance += interest\n",
    "\n",
    "class Credit(Account):\n",
    "    def __init__(self, account_number, balance, credit_limit):\n",
    "        super().__init__(account_number, balance)\n",
    "        self.credit_limit = credit_limit\n",
    "    \n",
    "    def withdraw(self, amount):\n",
    "        if self.balance + self.credit_limit >= amount:\n",
    "            self.balance -= amount\n",
    "        else:\n",
    "            print(\"Exceeded credit limit.\")\n",
    "\n",
    "checking = Checking(\"123456789\", 1000)\n",
    "checking.withdraw(500)\n",
    "print(checking.get_balance())  # Output: 500\n",
    "checking.reset_transactions()\n",
    "\n",
    "savings = Savings(\"987654321\", 5000)\n",
    "savings.add_interest()\n",
    "print(savings.get_balance())  # Output: 5050\n",
    "\n",
    "credit = Credit(\"24681012\", 0, 1000)\n",
    "credit.deposit(500)\n",
    "credit.withdraw(800)\n",
    "print(credit.get_balance())  # Output: -300"
   ]
  },
  {
   "cell_type": "markdown",
   "metadata": {},
   "source": [
    "### 14) Create a Shape class with a draw method that is not implemented. Create three child classes Rectangle, Circle, and Triangle that implement the draw method with their respective drawing behaviors. Create a list of Shape objects that includes one instance of each child class, and then iterate through the list and call the draw method on each object."
   ]
  },
  {
   "cell_type": "code",
   "execution_count": 28,
   "metadata": {},
   "outputs": [
    {
     "name": "stdout",
     "output_type": "stream",
     "text": [
      "Drawing a rectangle\n",
      "Drawing a circle\n",
      "Drawing a triangle\n"
     ]
    }
   ],
   "source": [
    "import math\n",
    "\n",
    "class Shape:\n",
    "    def draw(self):\n",
    "        pass\n",
    "\n",
    "class Rectangle(Shape):\n",
    "    def draw(self):\n",
    "        print(\"Drawing a rectangle\")\n",
    "\n",
    "class Circle(Shape):\n",
    "    def draw(self):\n",
    "        print(\"Drawing a circle\")\n",
    "\n",
    "class Triangle(Shape):\n",
    "    def draw(self):\n",
    "        print(\"Drawing a triangle\")\n",
    "\n",
    "shapes = [Rectangle(), Circle(), Triangle()]\n",
    "\n",
    "for shape in shapes:\n",
    "    shape.draw()"
   ]
  },
  {
   "cell_type": "markdown",
   "metadata": {},
   "source": [
    "### 15) Create a Person class with a constructor that takes two arguments name and age. Create a child class Employee that inherits from Person and adds a new attribute salary. Override the __init__ method in Employee to call the parent class's __init__ method using the super keyword, and then initialize the salary attribute."
   ]
  },
  {
   "cell_type": "code",
   "execution_count": 34,
   "metadata": {},
   "outputs": [
    {
     "name": "stdout",
     "output_type": "stream",
     "text": [
      "John\n",
      "30\n",
      "50000\n"
     ]
    }
   ],
   "source": [
    "class Person:\n",
    "    def __init__(self, name, age):\n",
    "        self.name = name\n",
    "        self.age = age\n",
    "\n",
    "class Employee(Person):\n",
    "    def __init__(self, name, age, salary):\n",
    "        super().__init__(name, age)\n",
    "        self.salary = salary\n",
    "\n",
    "emp = Employee(\"John\", 30, 50000)\n",
    "print(emp.name)    # Output: John\n",
    "print(emp.age)     # Output: 30\n",
    "print(emp.salary)  # Output: 50000"
   ]
  }
 ],
 "metadata": {
  "kernelspec": {
   "display_name": "Python 3 (ipykernel)",
   "language": "python",
   "name": "python3"
  },
  "language_info": {
   "codemirror_mode": {
    "name": "ipython",
    "version": 3
   },
   "file_extension": ".py",
   "mimetype": "text/x-python",
   "name": "python",
   "nbconvert_exporter": "python",
   "pygments_lexer": "ipython3",
   "version": "3.9.13"
  }
 },
 "nbformat": 4,
 "nbformat_minor": 4
}
