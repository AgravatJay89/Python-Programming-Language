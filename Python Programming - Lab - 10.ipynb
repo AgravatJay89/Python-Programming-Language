{
 "cells": [
  {
   "cell_type": "markdown",
   "metadata": {},
   "source": [
    "<a href='https://www.darshan.ac.in/'> <img src='https://www.darshan.ac.in/Content/media/DU_Logo.svg' width=\"250\" height=\"300\"/></a>\n",
    "<pre>\n",
    "<center><b><h1>Python Programming - 2101CS405</b></center>\n",
    "<center><b><h1>Lab - 10</b></center>    \n",
    "<pre>"
   ]
  },
  {
   "cell_type": "markdown",
   "metadata": {},
   "source": [
    "# Modules"
   ]
  },
  {
   "cell_type": "markdown",
   "metadata": {},
   "source": [
    "# A"
   ]
  },
  {
   "cell_type": "markdown",
   "metadata": {},
   "source": [
    "### 01) WAP to create Calculator module which defines functions like add, sub,mul and div. create another file that uses the Calculator module."
   ]
  },
  {
   "cell_type": "code",
   "execution_count": 12,
   "metadata": {},
   "outputs": [
    {
     "name": "stdout",
     "output_type": "stream",
     "text": [
      "30\n",
      "-10\n",
      "200\n",
      "0.5\n"
     ]
    }
   ],
   "source": [
    "import calculator\n",
    "\n",
    "calculator.add(10,20)\n",
    "calculator.sub(10,20)\n",
    "calculator.mul(10,20)\n",
    "calculator.div(10,20)"
   ]
  },
  {
   "cell_type": "markdown",
   "metadata": {},
   "source": [
    "### 02) WAP to Pick a random character from a given String."
   ]
  },
  {
   "cell_type": "code",
   "execution_count": 23,
   "metadata": {},
   "outputs": [
    {
     "name": "stdout",
     "output_type": "stream",
     "text": [
      "A\n"
     ]
    }
   ],
   "source": [
    "import random \n",
    "s = \"DArshan University At HADALA\"\n",
    "print(random.choice(s))"
   ]
  },
  {
   "cell_type": "markdown",
   "metadata": {},
   "source": [
    "### 03) WAP to Pick a random element from a given list."
   ]
  },
  {
   "cell_type": "code",
   "execution_count": 27,
   "metadata": {},
   "outputs": [
    {
     "name": "stdout",
     "output_type": "stream",
     "text": [
      "20\n"
     ]
    }
   ],
   "source": [
    "l1 = [10,20,30]\n",
    "print(random.choice(l1))"
   ]
  },
  {
   "cell_type": "markdown",
   "metadata": {},
   "source": [
    "### 04) WAP to demonstrate the use of the math module."
   ]
  },
  {
   "cell_type": "code",
   "execution_count": 29,
   "metadata": {},
   "outputs": [
    {
     "name": "stdout",
     "output_type": "stream",
     "text": [
      "e =  2.718281828459045\n",
      "pi =  3.141592653589793\n",
      "tau =  6.283185307179586\n",
      "ceil =  6\n",
      "floor =  5\n",
      "factorial =  120\n",
      "gcd =  15\n",
      "lcm =  30\n",
      "fabs =  10.0\n",
      "exp =  2.718281828459045\n",
      "power =  32.0\n",
      "log =  2.0\n",
      "log =  0.3010299956639812\n",
      "sqrt =  2.0\n",
      "sin =  1.0\n",
      "cos =  0.7071067811865476\n",
      "tan =  -1.2246467991473532e-16\n",
      "radians =  0.06981317007977318\n",
      "degrees =  4.0\n",
      "gamma =  24.0\n",
      "radians =  0.06981317007977318\n"
     ]
    }
   ],
   "source": [
    "import math\n",
    "\n",
    "print(\"e = \",math.e)\n",
    "\n",
    "print(\"pi = \",math.pi)\n",
    "\n",
    "print(\"tau = \",math.tau)\n",
    "\n",
    "print(\"ceil = \",math.ceil(5.6))\n",
    "\n",
    "print(\"floor = \",math.floor(5.6))\n",
    "\n",
    "\n",
    "print(\"factorial = \",math.factorial(5))\n",
    "\n",
    "print(\"gcd = \",math.gcd(15,30))\n",
    "\n",
    "print(\"lcm = \",math.lcm(15,30))\n",
    "\n",
    "print(\"fabs = \",math.fabs(-10))\n",
    "\n",
    "print(\"exp = \",math.exp(1))\n",
    "\n",
    "print(\"power = \",math.pow(2,5))\n",
    "\n",
    "print(\"log = \",math.log2(4))\n",
    "\n",
    "print(\"log = \",math.log10(2))\n",
    "\n",
    "print(\"sqrt = \",math.sqrt(4))\n",
    "\n",
    "print(\"sin = \",math.sin(math.pi/2))\n",
    "\n",
    "print(\"cos = \",math.cos(math.pi/4))\n",
    "\n",
    "print(\"tan = \",math.tan(math.pi/1))\n",
    "\n",
    "print(\"radians = \",math.radians(4))\n",
    "\n",
    "print(\"degrees = \",math.degrees(0.06981317007977318))\n",
    "\n",
    "print(\"gamma = \",math.gamma(5))\n",
    "\n",
    "print(\"radians = \",math.radians(4))"
   ]
  },
  {
   "cell_type": "markdown",
   "metadata": {},
   "source": [
    "### 05) WAP to demonstrate the use of date time module."
   ]
  },
  {
   "cell_type": "code",
   "execution_count": 30,
   "metadata": {},
   "outputs": [
    {
     "name": "stdout",
     "output_type": "stream",
     "text": [
      "2023-02-07\n",
      "2023-02-08\n",
      "2023\n",
      "2\n",
      "8\n",
      "10:30:05.000001\n",
      "10\n",
      "30\n",
      "5\n",
      "1\n",
      "2023-02-07 10:30:05.000001\n",
      "2023-02-08 13:17:20.500167\n",
      "2023-02-08 13:17:20.500167\n",
      "Wednesday\n",
      "Wed\n",
      "02\n",
      "17\n",
      "2023\n",
      "23\n"
     ]
    }
   ],
   "source": [
    "import datetime\n",
    "\n",
    "d = datetime.date(2023,2,7)\n",
    "print(d)\n",
    "\n",
    "t = datetime.date.today()\n",
    "print(t)\n",
    "print(t.year)\n",
    "print(t.month)\n",
    "print(t.day)\n",
    "\n",
    "t = datetime.time(10,30,5,1)\n",
    "print(t)\n",
    "print(t.hour)\n",
    "print(t.minute)\n",
    "print(t.second)\n",
    "print(t.microsecond)\n",
    "\n",
    "dt = datetime.datetime(2023,2,7,10,30,5,1)\n",
    "print(dt)\n",
    "\n",
    "x = datetime.datetime.now()\n",
    "print(x)\n",
    "\n",
    "x = datetime.datetime.now()\n",
    "print(x)\n",
    "\n",
    "print(x.strftime(\"%A\"))\n",
    "\n",
    "print(x.strftime(\"%a\"))\n",
    "\n",
    "print(x.strftime(\"%m\"))\n",
    "\n",
    "print(x.strftime(\"%M\"))\n",
    "\n",
    "print(x.strftime(\"%Y\"))\n",
    "\n",
    "print(x.strftime(\"%y\"))"
   ]
  },
  {
   "cell_type": "markdown",
   "metadata": {},
   "source": [
    "# B"
   ]
  },
  {
   "cell_type": "markdown",
   "metadata": {},
   "source": [
    "### 01) WAP to Roll dice in such a way that every time you get the same number."
   ]
  },
  {
   "cell_type": "code",
   "execution_count": 60,
   "metadata": {},
   "outputs": [
    {
     "name": "stdout",
     "output_type": "stream",
     "text": [
      "2\n"
     ]
    }
   ],
   "source": [
    "li = [1,2,3,4,5,6]\n",
    "\n",
    "random.seed(1)\n",
    "\n",
    "ans1 = random.choice(li)\n",
    "\n",
    "print(ans1)"
   ]
  },
  {
   "cell_type": "markdown",
   "metadata": {},
   "source": [
    "### 02) WAP to generate 3 random integers between 100 and 999 which is divisible by 5."
   ]
  },
  {
   "cell_type": "code",
   "execution_count": 62,
   "metadata": {},
   "outputs": [
    {
     "name": "stdout",
     "output_type": "stream",
     "text": [
      "825\n",
      "180\n",
      "425\n"
     ]
    }
   ],
   "source": [
    "for i in range(3):\n",
    "    print(random.randrange(100,999,5))"
   ]
  },
  {
   "cell_type": "markdown",
   "metadata": {},
   "source": [
    "### 03) WAP to generate 100 random lottery tickets and pick two lucky tickets from it as a winner."
   ]
  },
  {
   "cell_type": "code",
   "execution_count": 63,
   "metadata": {},
   "outputs": [
    {
     "name": "stdout",
     "output_type": "stream",
     "text": [
      "[780, 744]\n"
     ]
    }
   ],
   "source": [
    "l1 = [] \n",
    "\n",
    "for i in range(100):\n",
    "    li.append(random.randint(1,1000))\n",
    "print(random.sample(li,2))"
   ]
  },
  {
   "cell_type": "markdown",
   "metadata": {},
   "source": [
    "### 04) WAP to print current date and time in Python."
   ]
  },
  {
   "cell_type": "code",
   "execution_count": 64,
   "metadata": {},
   "outputs": [
    {
     "name": "stdout",
     "output_type": "stream",
     "text": [
      "2023-02-07 10:30:05.000001\n"
     ]
    }
   ],
   "source": [
    "dt1 = datetime.datetime.now()\n",
    "print(dt)"
   ]
  },
  {
   "cell_type": "markdown",
   "metadata": {},
   "source": [
    "### 05) Subtract a week (7 days) from a given date in Python."
   ]
  },
  {
   "cell_type": "code",
   "execution_count": 65,
   "metadata": {},
   "outputs": [
    {
     "name": "stdout",
     "output_type": "stream",
     "text": [
      "2023-02-01 13:21:14.810602\n"
     ]
    }
   ],
   "source": [
    "dt2 = dt1 - datetime.timedelta(weeks=1)\n",
    "print(dt2)"
   ]
  },
  {
   "cell_type": "markdown",
   "metadata": {},
   "source": [
    "### 06) WAP to Calculate number of days between two given dates."
   ]
  },
  {
   "cell_type": "code",
   "execution_count": 69,
   "metadata": {},
   "outputs": [
    {
     "name": "stdout",
     "output_type": "stream",
     "text": [
      "7\n"
     ]
    }
   ],
   "source": [
    "print(dt1.day - dt2.day)"
   ]
  },
  {
   "cell_type": "markdown",
   "metadata": {},
   "source": [
    "### 07) WAP to Find the day of the week of a given date."
   ]
  },
  {
   "cell_type": "code",
   "execution_count": 72,
   "metadata": {},
   "outputs": [
    {
     "name": "stdout",
     "output_type": "stream",
     "text": [
      "Wednesday\n",
      "Wed\n"
     ]
    }
   ],
   "source": [
    "print(dt1.strftime(\"%A\"))\n",
    "\n",
    "print(dt1.strftime(\"%a\"))"
   ]
  }
 ],
 "metadata": {
  "kernelspec": {
   "display_name": "Python 3 (ipykernel)",
   "language": "python",
   "name": "python3"
  },
  "language_info": {
   "codemirror_mode": {
    "name": "ipython",
    "version": 3
   },
   "file_extension": ".py",
   "mimetype": "text/x-python",
   "name": "python",
   "nbconvert_exporter": "python",
   "pygments_lexer": "ipython3",
   "version": "3.9.13"
  }
 },
 "nbformat": 4,
 "nbformat_minor": 4
}
