{
 "cells": [
  {
   "cell_type": "markdown",
   "metadata": {},
   "source": [
    "\n",
    "<a href='https://www.darshan.ac.in/'> <img src='https://www.darshan.ac.in/Content/media/DU_Logo.svg' width=\"250\" height=\"300\"/></a>\n",
    "<pre>\n",
    "<center><b><h1>Python Programming - 2101CS405</b></center>\n",
    "<center><b><h1>Lab - 5</b></center>    \n",
    "<pre>"
   ]
  },
  {
   "cell_type": "markdown",
   "metadata": {},
   "source": [
    "# list"
   ]
  },
  {
   "cell_type": "markdown",
   "metadata": {},
   "source": [
    "### 01) WAP to find sum of all the elements in List."
   ]
  },
  {
   "cell_type": "code",
   "execution_count": 1,
   "metadata": {},
   "outputs": [
    {
     "data": {
      "text/plain": [
       "60"
      ]
     },
     "execution_count": 1,
     "metadata": {},
     "output_type": "execute_result"
    }
   ],
   "source": [
    "list =  input(\"Enter Any List (Element Separated With Space) : \").split()\n",
    "list\n",
    "sum = 0\n",
    "for i in list:\n",
    "    sum = sum + int(i)\n",
    "sum"
   ]
  },
  {
   "cell_type": "markdown",
   "metadata": {},
   "source": [
    "### 02) WAP to find largest element in a List."
   ]
  },
  {
   "cell_type": "code",
   "execution_count": 27,
   "metadata": {},
   "outputs": [
    {
     "name": "stdout",
     "output_type": "stream",
     "text": [
      "largest Element Is :  30\n"
     ]
    }
   ],
   "source": [
    "a = input(\"Enter Any List (Element Separated With Space) : \").split()\n",
    "print(\"largest Element Is : \",max(a))"
   ]
  },
  {
   "cell_type": "markdown",
   "metadata": {},
   "source": [
    "### 03) WAP to split the List into two and append the first part to the end."
   ]
  },
  {
   "cell_type": "code",
   "execution_count": 15,
   "metadata": {},
   "outputs": [
    {
     "name": "stdout",
     "output_type": "stream",
     "text": [
      "['10', '20', '30', '40', '50', '60', '70']\n",
      "7\n",
      "['40', '50', '60', '70', '10', '20', '30']\n"
     ]
    }
   ],
   "source": [
    "a =  input(\"Enter Any List (Element Separated With Space) : \").split()\n",
    "print(a)\n",
    "print(len(a))\n",
    "c = int(len(a)/2)\n",
    "list1=a[0:c:]\n",
    "list2=a[c::]\n",
    "print(list2+list1)"
   ]
  },
  {
   "cell_type": "markdown",
   "metadata": {},
   "source": [
    "### 04) WAP to interchange first and last elements in list entered by a user."
   ]
  },
  {
   "cell_type": "code",
   "execution_count": 6,
   "metadata": {},
   "outputs": [
    {
     "name": "stdout",
     "output_type": "stream",
     "text": [
      "['10', '20', '30', '40']\n",
      "40 20 30 10\n"
     ]
    }
   ],
   "source": [
    "a = input(\"Enter Any List (Element Separated With Space) : \").split()\n",
    "print(a)\n",
    "first = a[0]\n",
    "last = a[-1]\n",
    "print(last,\" \".join(a[1:-1]),first)"
   ]
  },
  {
   "cell_type": "markdown",
   "metadata": {},
   "source": [
    "### 05) WAP to interchange the elements on two positions entered by a user."
   ]
  },
  {
   "cell_type": "code",
   "execution_count": 28,
   "metadata": {},
   "outputs": [
    {
     "name": "stdout",
     "output_type": "stream",
     "text": [
      "First Index : 1 \n",
      " Second Index : 2\n",
      "['10', '30', '20']\n"
     ]
    }
   ],
   "source": [
    "a = input(\"Enter Any List (Element Separated With Space) : \").split()\n",
    "first =int( input(\"Enter First Position : \"))\n",
    "second = int(input(\"Enter Second Position : \"))\n",
    "print(\"First Index : {0} \\nSecond Index : {1}\".format(first,second))\n",
    "a[first],a[second] = a[second],a[first]\n",
    "\n",
    "print(a)\n",
    "        \n"
   ]
  },
  {
   "cell_type": "markdown",
   "metadata": {},
   "source": [
    "### 06) WAP to reverses the list entered by user."
   ]
  },
  {
   "cell_type": "code",
   "execution_count": 67,
   "metadata": {},
   "outputs": [
    {
     "name": "stdout",
     "output_type": "stream",
     "text": [
      "['10', '20', '30', '40']\n"
     ]
    },
    {
     "data": {
      "text/plain": [
       "['40', '30', '20', '10']"
      ]
     },
     "execution_count": 67,
     "metadata": {},
     "output_type": "execute_result"
    }
   ],
   "source": [
    "a = input(\"Enter Any List (Element Separated With Space) : \").split()\n",
    "print(a)\n",
    "a[::-1]"
   ]
  },
  {
   "cell_type": "markdown",
   "metadata": {},
   "source": [
    "### 07) Python program to remove multiple elements from a list using list comprehension"
   ]
  },
  {
   "cell_type": "code",
   "execution_count": 13,
   "metadata": {},
   "outputs": [
    {
     "name": "stdout",
     "output_type": "stream",
     "text": [
      "['10', '20', '50', '5']\n",
      "['10', '20', '50']\n"
     ]
    }
   ],
   "source": [
    "a = input(\"Enter Any List (Element Separated With Space) : \").split()\n",
    "print(a)\n",
    "l=[]\n",
    "l = [ i  for i in a if int(i) % 2==0]\n",
    "print(l)\n"
   ]
  },
  {
   "cell_type": "markdown",
   "metadata": {},
   "source": [
    "### 08) Create a list from the specified start to end index of another list."
   ]
  },
  {
   "cell_type": "code",
   "execution_count": 39,
   "metadata": {},
   "outputs": [
    {
     "name": "stdout",
     "output_type": "stream",
     "text": [
      "['10', '20', '30', '40', '50', '60', '70']\n",
      "['30', '40', '50', '60']\n"
     ]
    }
   ],
   "source": [
    "a = input(\"Enter Any List (Element Separated With Space) : \").split()\n",
    "print(a)\n",
    "first =int( input(\"Enter First Position : \"))\n",
    "second = int(input(\"Enter Second Position : \"))\n",
    "print(a[first:second+1:])"
   ]
  },
  {
   "cell_type": "markdown",
   "metadata": {},
   "source": [
    "### 09) Input comma separated elements, convert into list and print."
   ]
  },
  {
   "cell_type": "code",
   "execution_count": 88,
   "metadata": {},
   "outputs": [
    {
     "name": "stdout",
     "output_type": "stream",
     "text": [
      "['10', '20', '30', '40']\n"
     ]
    }
   ],
   "source": [
    "a= input(\"Enter Comma Separated Element : \").split(',')\n",
    "print(a)"
   ]
  },
  {
   "cell_type": "markdown",
   "metadata": {},
   "source": [
    "### 01) WAP to count Even and Odd numbers in a List."
   ]
  },
  {
   "cell_type": "code",
   "execution_count": 113,
   "metadata": {},
   "outputs": [
    {
     "name": "stdout",
     "output_type": "stream",
     "text": [
      "['10', '0', '7']\n",
      "Odd :  1\n",
      "Even :  2\n"
     ]
    }
   ],
   "source": [
    "a = input(\"Enter Any List (Element Separated With Space) : \").split()\n",
    "print(a)\n",
    "odd = even = 0\n",
    "for i in a:\n",
    "    if int(i) % 2 == 0:\n",
    "        even+=1\n",
    "    elif int(i) % 2 != 0:\n",
    "        odd+=1\n",
    "print(\"Odd : \",odd)\n",
    "print(\"Even : \",even)"
   ]
  },
  {
   "cell_type": "markdown",
   "metadata": {},
   "source": [
    "### 02) Python program to find N largest and smallest elements from the list"
   ]
  },
  {
   "cell_type": "code",
   "execution_count": 115,
   "metadata": {},
   "outputs": [
    {
     "name": "stdout",
     "output_type": "stream",
     "text": [
      "Largest Element :  30\n",
      "Smallest Element :  10\n"
     ]
    }
   ],
   "source": [
    "a = input(\"Enter Any List (Element Separated With Space) : \").split()\n",
    "print(\"Smallest Element : \",min(a))\n",
    "print(\"Largest Element : \",max(a))"
   ]
  },
  {
   "cell_type": "markdown",
   "metadata": {},
   "source": [
    "### 03) WAP to print duplicates from a list of integers"
   ]
  },
  {
   "cell_type": "code",
   "execution_count": 41,
   "metadata": {},
   "outputs": [
    {
     "name": "stdout",
     "output_type": "stream",
     "text": [
      "['10', '302', '302', '10', '50']\n",
      "['10', '302']\n"
     ]
    }
   ],
   "source": [
    "a = input(\"Enter Any List (Element Separated With Space) : \").split()\n",
    "print(a)\n",
    "x= []\n",
    "for i in a:\n",
    "    if i not in x and a.count(i) > 1:\n",
    "        x.append(i)\n",
    "print(x)"
   ]
  }
 ],
 "metadata": {
  "kernelspec": {
   "display_name": "Python 3",
   "language": "python",
   "name": "python3"
  },
  "language_info": {
   "codemirror_mode": {
    "name": "ipython",
    "version": 3
   },
   "file_extension": ".py",
   "mimetype": "text/x-python",
   "name": "python",
   "nbconvert_exporter": "python",
   "pygments_lexer": "ipython3",
   "version": "3.11.0"
  },
  "vscode": {
   "interpreter": {
    "hash": "b5a6f1e0cd3542f02413380ed3d635a72415a672d8300e73b4be76e94015e3a8"
   }
  }
 },
 "nbformat": 4,
 "nbformat_minor": 4
}
