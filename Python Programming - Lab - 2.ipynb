{
 "cells": [
  {
   "cell_type": "markdown",
   "metadata": {},
   "source": [
    "\n",
    "<a href='https://www.darshan.ac.in/'> <img src='https://www.darshan.ac.in/Content/media/DU_Logo.svg' width=\"250\" height=\"300\"/></a>\n",
    "<pre>\n",
    "<center><b><h1>Python Programming - 2101CS405</b></center>\n",
    "<center><b><h1>Lab - 2</b></center>    \n",
    "<pre>"
   ]
  },
  {
   "cell_type": "markdown",
   "metadata": {},
   "source": [
    "# if..else.."
   ]
  },
  {
   "cell_type": "markdown",
   "metadata": {},
   "source": [
    "### 01) WAP to check whether the given number is positive or negative."
   ]
  },
  {
   "cell_type": "code",
   "execution_count": 1,
   "metadata": {},
   "outputs": [
    {
     "name": "stdout",
     "output_type": "stream",
     "text": [
      "Enter Any Number : 12\n",
      "Number is Positive.\n"
     ]
    }
   ],
   "source": [
    "number = int(input(\"Enter Any Number : \"))\n",
    "\n",
    "if number > 0:\n",
    "    print(\"Number is Positive.\")\n",
    "elif number < 0:\n",
    "    print(\"Number Is Negative.\")\n",
    "else:\n",
    "    print(\"Invalid Input OR number is ZERO.\")"
   ]
  },
  {
   "cell_type": "markdown",
   "metadata": {},
   "source": [
    "### 02) WAP to check whether the given number is odd or even"
   ]
  },
  {
   "cell_type": "code",
   "execution_count": 2,
   "metadata": {},
   "outputs": [
    {
     "name": "stdout",
     "output_type": "stream",
     "text": [
      "Enter Any Number : 17\n",
      "number is odd\n"
     ]
    }
   ],
   "source": [
    "number = int(input(\"Enter Any Number : \"))\n",
    "\n",
    "if number % 2 == 0:\n",
    "    print(\"number is Even\")\n",
    "elif number % 2 != 0:\n",
    "    print(\"number is odd\")\n",
    "else:\n",
    "    print(\"Invalid Input !!\")"
   ]
  },
  {
   "cell_type": "markdown",
   "metadata": {},
   "source": [
    "### 03) WAP to find out largest number from given two numbers using simple if and ternary operator."
   ]
  },
  {
   "cell_type": "code",
   "execution_count": 3,
   "metadata": {},
   "outputs": [
    {
     "name": "stdout",
     "output_type": "stream",
     "text": [
      "Enter First Number : 10\n",
      "Enter Second Number : 20\n",
      "B Is Greatest\n"
     ]
    }
   ],
   "source": [
    "a = int(input(\"Enter First Number : \"))\n",
    "b = int(input(\"Enter Second Number : \"))\n",
    "\n",
    "if a > b:\n",
    "    print(a,\" Is Greatest\")\n",
    "elif b > a:\n",
    "    print(b,\" Is Greatest\") \n",
    "elif b==a:\n",
    "    print(\"Both Are Same\")\n",
    "else:\n",
    "    print(\"INVALID INPUT !!\")   \n"
   ]
  },
  {
   "cell_type": "markdown",
   "metadata": {},
   "source": [
    "### 04) WAP to find out largest number from given three numbers."
   ]
  },
  {
   "cell_type": "code",
   "execution_count": 10,
   "metadata": {},
   "outputs": [
    {
     "name": "stdout",
     "output_type": "stream",
     "text": [
      "90.0 Is Largest Number\n"
     ]
    }
   ],
   "source": [
    "num1 = float(input(\"Enter First Number : \"))\n",
    "num2 = float(input(\"Enter Second Number : \"))\n",
    "num3 = float(input(\"Enter Second Number : \"))\n",
    "\n",
    "if num1>num2 and num1>num3:\n",
    "    print(num1,\"Is Largest Number\")\n",
    "elif num2>num1 and num2>num3:\n",
    "    print(num2,\"Is Largest Number\")\n",
    "if num3>num1 and num3>num2:\n",
    "    print(num3,\"Is Largest Number\")\n",
    "else:\n",
    "    print(\"Invalid Input!!\")"
   ]
  },
  {
   "cell_type": "markdown",
   "metadata": {},
   "source": [
    "### 05) WAP to check whether the given year is leap year or not.\n",
    "[If a year can be divisible by 4 but not divisible by 100 then it is leap year but if it is divisible by 400 then it is leap year]"
   ]
  },
  {
   "cell_type": "code",
   "execution_count": 52,
   "metadata": {},
   "outputs": [
    {
     "name": "stdout",
     "output_type": "stream",
     "text": [
      "1900 Is Not Leap Year\n"
     ]
    }
   ],
   "source": [
    "#2017 is not a leap year\n",
    "#1900 is a not leap year\n",
    "#2012 is a leap year\n",
    "#2000 is a leap year\n",
    "\n",
    "year = int(input(\"Enter A Year :\"))\n",
    "\n",
    "if year % 4 == 0 and year % 100 != 0 :\n",
    "    print(year,\" Is  Leap Year\")  \n",
    "\n",
    "elif year % 4 == 0 and year % 400 == 0 :\n",
    "    print(year,\" Is Year Year\")\n",
    "\n",
    "else :\n",
    "    print(year,\"Is Not Leap Year\")\n"
   ]
  },
  {
   "cell_type": "markdown",
   "metadata": {},
   "source": [
    "### 06) WAP in python to display the name of the day according to the number given by the user"
   ]
  },
  {
   "cell_type": "code",
   "execution_count": 10,
   "metadata": {},
   "outputs": [
    {
     "name": "stdout",
     "output_type": "stream",
     "text": [
      "INVALID INPUT !!\n"
     ]
    }
   ],
   "source": [
    "#RUN IN VS CODE\n",
    "num = int(input(\"Enter Any Number : \"))\n",
    "\n",
    "match (num):\n",
    "    case (1):\n",
    "        print(\"Sunday\") \n",
    "    case (2):\n",
    "        print(\"Monday\")\n",
    "    case (3):\n",
    "        print(\"Tuesday\") \n",
    "    case (4):\n",
    "        print(\"Wednesday\")\n",
    "    case (5):\n",
    "        print(\"Thursday\") \n",
    "    case (6):\n",
    "        print(\"Friday\")  \n",
    "    case (7):\n",
    "        print(\"Saturday\") \n",
    "    case _:\n",
    "        print(\"INVALID INPUT !!\")"
   ]
  },
  {
   "cell_type": "markdown",
   "metadata": {},
   "source": [
    "### 07) WAP to implement simple calculator which performs (add,sub,mul,div) of two no. based on user input."
   ]
  },
  {
   "cell_type": "code",
   "execution_count": 12,
   "metadata": {},
   "outputs": [
    {
     "name": "stdout",
     "output_type": "stream",
     "text": [
      "Enter First Number : 10\n",
      "Enter Second Number : 20\n",
      "Enter Operation \n",
      " '+' For Addition\n",
      " '-' For Subtraction\n",
      " '*' For multiplication\n",
      " '/' For Division\n",
      "/\n",
      "Division : 0.5\n"
     ]
    }
   ],
   "source": [
    "num1 = int(input(\"Enter First Number : \"))\n",
    "num2 = int(input(\"Enter Second Number : \"))\n",
    "\n",
    "operation = input(\"Enter Operation \\n '+' For Addition\\n '-' For Subtraction\\n '*' For multiplication\\n '/' For Division\\n\")\n",
    "\n",
    "if operation =='+':\n",
    "    print(\"Addition :\", num1 + num2)\n",
    "elif operation == '-':\n",
    "    print(\"Subtraction :\",num1 - num2)\n",
    "elif operation =='*':\n",
    "    print(\"Multiplication :\", num1 * num2)\n",
    "elif operation == '/':\n",
    "    print(\"Division :\",num1 / num2)"
   ]
  },
  {
   "cell_type": "markdown",
   "metadata": {},
   "source": [
    "### 08) WAP to calculate electricity bill based on following criteria. Which takes the unit from the user.\n",
    "a. First 1 to 50 units – Rs. 2.60/unit</br>\n",
    "b. Next 50 to 100 units – Rs. 3.25/unit</br>\n",
    "c. Next 100 to 200 units – Rs. 5.26/unit</br>\n",
    "d. above 200 units – Rs. 8.45/unit"
   ]
  },
  {
   "cell_type": "code",
   "execution_count": 13,
   "metadata": {},
   "outputs": [
    {
     "name": "stdout",
     "output_type": "stream",
     "text": [
      "Enter unit :200\n",
      "Rs.  0.013000000000000001\n"
     ]
    }
   ],
   "source": [
    "u = int(input(\"Enter unit :\"))\n",
    "\n",
    "if u<=1 or u>50:\n",
    "    print(\"Rs. \",2.60/u)\n",
    "\n",
    "elif u<=50 or u>100:\n",
    "    print(\"Rs.\",3.25/u)\n",
    "\n",
    "elif u<=100 or u>200:\n",
    "    print(\"Rs.\",5.26/u)\n",
    "elif u<=200:\n",
    "    print(\"Rs.\",8.45/u)\n",
    "else:\n",
    "    print(\"INVALID INPUT!!\")"
   ]
  },
  {
   "cell_type": "markdown",
   "metadata": {},
   "source": [
    "### 01) WAP to read marks of five subjects. Calculate percentage and print class accordingly. \n",
    "Fail below 35 </br>\n",
    "Pass Class between 35 to 45 </br>\n",
    "Second Class</br>\n",
    "between 45 to 60</br>\n",
    "First Class between 60 to 70</br> \n",
    "Distinction if more than 70"
   ]
  },
  {
   "cell_type": "code",
   "execution_count": 14,
   "metadata": {},
   "outputs": [
    {
     "name": "stdout",
     "output_type": "stream",
     "text": [
      "Enter First Subject Marks :70\n",
      "Enter Second Subject Marks :70\n",
      "Enter Third Subject Marks :70\n",
      "Enter Fourth Subject Marks :70\n",
      "Enter Fifth Subject Marks :70\n",
      "Percentage : 70.0\n",
      "You Are Pass With Distinction\n"
     ]
    }
   ],
   "source": [
    "sub1 = float(input(\"Enter First Subject Marks :\"))\n",
    "sub2 = float(input(\"Enter Second Subject Marks :\"))\n",
    "sub3 = float(input(\"Enter Third Subject Marks :\"))\n",
    "sub4 = float(input(\"Enter Fourth Subject Marks :\"))\n",
    "sub5 = float(input(\"Enter Fifth Subject Marks :\"))\n",
    "\n",
    "sum = (sub1 + sub2 + sub3 + sub4 + sub5)\n",
    "per = sum/5\n",
    "print(\"Percentage :\",per)\n",
    "\n",
    "if per < 35:\n",
    "    print(\"You Are Fail!\")\n",
    "\n",
    "elif per <= 35 or per < 45:\n",
    "    print(\"You Are Pass With Pass Class\")\n",
    "\n",
    "elif per <= 45 or per < 60:\n",
    "    print(\"You Are Pass With Second Class\")\n",
    "\n",
    "elif per <=60 or per < 70:\n",
    "    print(\"You Are Pass With First Class\")\n",
    "\n",
    "elif per >= 70:\n",
    "    print(\"You Are Pass With Distinction\")\n",
    "\n",
    "else:\n",
    "    print(\"INVALID INPUT !!\")\n"
   ]
  },
  {
   "cell_type": "markdown",
   "metadata": {},
   "source": [
    "### 02) WAP to find out the Maximum and Minimum number from given 4 numbers."
   ]
  },
  {
   "cell_type": "code",
   "execution_count": 15,
   "metadata": {},
   "outputs": [
    {
     "name": "stdout",
     "output_type": "stream",
     "text": [
      "Enter First Number : 10\n",
      "Enter Second Number : 20\n",
      "Enter Third Number : 30\n",
      "Enter Fourth Number : 40\n",
      "Maximum Number :  40\n",
      "Minimum Number :  10\n"
     ]
    }
   ],
   "source": [
    "num1 = int(input(\"Enter First Number : \"))\n",
    "num2 = int(input(\"Enter Second Number : \"))\n",
    "num3 = int(input(\"Enter Third Number : \"))\n",
    "num4 = int(input(\"Enter Fourth Number : \"))\n",
    "\n",
    "if(num1 == num2 == num3 == num4):\n",
    "    print(\"All Number Are Same\")\n",
    "else:\n",
    "    (\"INVALID INPUT !!\")\n",
    "\n",
    "#a=list(map(int,input(\"Enter a no's:\").split()))\n",
    "print(\"Maximum Number : \",max(num1,num2,num3,num4))\n",
    "print(\"Minimum Number : \",min(num1,num2,num3,num4))\n",
    "\n"
   ]
  },
  {
   "cell_type": "markdown",
   "metadata": {},
   "source": [
    "### 03) WAP to input an integer number and check the last digit of number is even or odd."
   ]
  },
  {
   "cell_type": "code",
   "execution_count": 16,
   "metadata": {},
   "outputs": [
    {
     "name": "stdout",
     "output_type": "stream",
     "text": [
      "Enter Any Number : 101\n",
      "101  ->Last Digit is Odd\n"
     ]
    }
   ],
   "source": [
    "num = int(input(\"Enter Any Number : \"))\n",
    "if (num % 10)%2 == 0 :\n",
    "    print(num,\" -> Last Digit Is Even\")\n",
    "else :\n",
    "    print(num,\" ->Last Digit is Odd\")\n"
   ]
  },
  {
   "cell_type": "markdown",
   "metadata": {},
   "source": [
    "### 04) WAP to determine the roots of the equation ax2+bx+c=0."
   ]
  },
  {
   "cell_type": "code",
   "execution_count": 17,
   "metadata": {},
   "outputs": [
    {
     "name": "stdout",
     "output_type": "stream",
     "text": [
      "Enter Value Of a:2\n",
      "Enter Value Of b:3\n",
      "Enter Value Of c:4\n",
      "The Solution Are (-0.75-1.1989578808281798j) And (-0.75+1.1989578808281798j)\n"
     ]
    }
   ],
   "source": [
    "from math import sqrt\n",
    "import cmath\n",
    "\n",
    "a= float(input(\"Enter Value Of a:\"))\n",
    "b= float(input(\"Enter Value Of b:\"))\n",
    "c= float(input(\"Enter Value Of c:\"))\n",
    "\n",
    "d= (b*b) - (4*a*c)\n",
    "\n",
    "sol1 = (-b-cmath.sqrt(d))/(2*a)\n",
    "sol2 = (-b+cmath.sqrt(d))/(2*a)\n",
    "\n",
    "print(\"The Solution Are {0} And {1}\".format(sol1,sol2))"
   ]
  },
  {
   "cell_type": "code",
   "execution_count": null,
   "metadata": {},
   "outputs": [],
   "source": []
  }
 ],
 "metadata": {
  "kernelspec": {
   "display_name": "Python 3 (ipykernel)",
   "language": "python",
   "name": "python3"
  },
  "language_info": {
   "codemirror_mode": {
    "name": "ipython",
    "version": 3
   },
   "file_extension": ".py",
   "mimetype": "text/x-python",
   "name": "python",
   "nbconvert_exporter": "python",
   "pygments_lexer": "ipython3",
   "version": "3.9.13"
  },
  "vscode": {
   "interpreter": {
    "hash": "b5a6f1e0cd3542f02413380ed3d635a72415a672d8300e73b4be76e94015e3a8"
   }
  }
 },
 "nbformat": 4,
 "nbformat_minor": 4
}
