{
 "cells": [
  {
   "cell_type": "markdown",
   "metadata": {},
   "source": [
    "\n",
    "<a href='https://www.darshan.ac.in/'> <img src='https://www.darshan.ac.in/Content/media/DU_Logo.svg' width=\"250\" height=\"300\"/></a>\n",
    "<pre>\n",
    "<center><b><h1>Python Programming - 2101CS405</b></center>\n",
    "<center><b><h1>Lab - 4</b></center>    \n",
    "<pre>"
   ]
  },
  {
   "cell_type": "markdown",
   "metadata": {},
   "source": [
    "# String"
   ]
  },
  {
   "cell_type": "markdown",
   "metadata": {},
   "source": [
    "### 01) WAP to check given string is palindrome or not."
   ]
  },
  {
   "cell_type": "markdown",
   "metadata": {},
   "source": []
  },
  {
   "cell_type": "code",
   "execution_count": 1,
   "metadata": {},
   "outputs": [
    {
     "name": "stdout",
     "output_type": "stream",
     "text": [
      "Reverse String :  01\n",
      "Is Not Palindrome\n"
     ]
    }
   ],
   "source": [
    "str = input(\"Enter A String : \")\n",
    "str_rev = str[::-1]\n",
    "print(\"Reverse String : \",str_rev)\n",
    "if str == str_rev:\n",
    "    print(\"Is Palindrome\")\n",
    "else:\n",
    "    print(\"Is Not Palindrome\")"
   ]
  },
  {
   "cell_type": "markdown",
   "metadata": {},
   "source": [
    "### 02) WAP to reverse the words in given string."
   ]
  },
  {
   "cell_type": "code",
   "execution_count": 33,
   "metadata": {},
   "outputs": [
    {
     "name": "stdout",
     "output_type": "stream",
     "text": [
      "['my', 'name', 'is', 'jay', 'agravat']\n",
      "agravat jay is name my\n"
     ]
    }
   ],
   "source": [
    "str = input(\"Enter A String : \")\n",
    "words =  str.split()\n",
    "print(words)\n",
    "words = words[::-1]\n",
    "# here use join for convert a reverse string list to String.\n",
    "print(\" \".join(words))"
   ]
  },
  {
   "cell_type": "markdown",
   "metadata": {},
   "source": [
    "### 03) WAP to remove ith character from given string"
   ]
  },
  {
   "cell_type": "code",
   "execution_count": null,
   "metadata": {},
   "outputs": [],
   "source": [
    "a = input(\"Enter A String : \")\n",
    "\n",
    "index = int(input(\"Enter The Index What You Want To Remove : \"))\n",
    "RemoveIndex = -1\n",
    "str = \"\"\n",
    "\n",
    "for i in a:\n",
    "    RemoveIndex += 1\n",
    "    if(index == RemoveIndex):\n",
    "        pass\n",
    "    else:\n",
    "        str += i\n",
    "print(a)\n",
    "print(index)\n",
    "print(str)"
   ]
  },
  {
   "attachments": {},
   "cell_type": "markdown",
   "metadata": {},
   "source": [
    "### 04) WAP to find length of String without using len function."
   ]
  },
  {
   "cell_type": "code",
   "execution_count": null,
   "metadata": {},
   "outputs": [
    {
     "name": "stdout",
     "output_type": "stream",
     "text": [
      "Length Of Given aaa: 3\n"
     ]
    }
   ],
   "source": [
    "str = input(\"Enter A String : \")\n",
    "count = 0\n",
    "for i in str:\n",
    "    count+=1\n",
    "print(\"Length Of  {0} is {1}\".format(str,count))"
   ]
  },
  {
   "cell_type": "markdown",
   "metadata": {},
   "source": [
    "### 05) WAP to print even length word in string."
   ]
  },
  {
   "cell_type": "code",
   "execution_count": null,
   "metadata": {},
   "outputs": [
    {
     "name": "stdout",
     "output_type": "stream",
     "text": [
      "['my', 'name', 'is', 'jay', 'agravat']\n",
      "my\n",
      "name\n",
      "is\n"
     ]
    }
   ],
   "source": [
    "str = input(\"Enter A String : \")\n",
    "str = str.split()\n",
    "print(str)\n",
    "for i in str :\n",
    "    if len(i) % 2 == 0:\n",
    "        print(i)"
   ]
  },
  {
   "cell_type": "markdown",
   "metadata": {},
   "source": [
    "### 06) WAP to count numbers of vowels in given string."
   ]
  },
  {
   "cell_type": "code",
   "execution_count": null,
   "metadata": {},
   "outputs": [
    {
     "name": "stdout",
     "output_type": "stream",
     "text": [
      "my name is jay agravat\n",
      "NUmber Of Vowels :  7\n"
     ]
    }
   ],
   "source": [
    "str = input(\"Enter A String : \").lower()\n",
    "print(str)\n",
    "count = 0\n",
    "for i in  str:\n",
    "    if i=='a' or i=='e' or i=='i' or i=='o' or i=='u':\n",
    "        count+=1\n",
    "print(\"Number Of Vowels : \",count)\n"
   ]
  },
  {
   "cell_type": "markdown",
   "metadata": {},
   "source": [
    "### 07) WAP to convert given array to string."
   ]
  },
  {
   "cell_type": "code",
   "execution_count": null,
   "metadata": {},
   "outputs": [
    {
     "name": "stdout",
     "output_type": "stream",
     "text": [
      "['10', '20', '30']\n",
      "10 20 30\n"
     ]
    }
   ],
   "source": [
    "List = input(\"Enter A Element In List : \").split()\n",
    "print(List)\n",
    "print(\" \".join(List))"
   ]
  },
  {
   "cell_type": "markdown",
   "metadata": {},
   "source": [
    "### 01) WAP to find out duplicate characters in given string."
   ]
  },
  {
   "cell_type": "code",
   "execution_count": 16,
   "metadata": {},
   "outputs": [
    {
     "name": "stdout",
     "output_type": "stream",
     "text": [
      "Duplicate Character in deep Is :  e\n"
     ]
    }
   ],
   "source": [
    "str =  input(\"Enter Any String : \")\n",
    "x =[]\n",
    "for i in str:\n",
    "    if i not in x and str.count(i) > 1:\n",
    "        x.append(i)\n",
    "print(\"Duplicate Character in {} Is : \".format(str),\" \".join(x))\n"
   ]
  },
  {
   "cell_type": "markdown",
   "metadata": {},
   "source": [
    "### 02) WAP to capitalize the first and last character of each word in a string."
   ]
  },
  {
   "cell_type": "code",
   "execution_count": 1,
   "metadata": {},
   "outputs": [
    {
     "name": "stdout",
     "output_type": "stream",
     "text": [
      "['Jay', 'agravat']\n",
      "JaY AgravaT "
     ]
    }
   ],
   "source": [
    "str = input(\"Enter A String : \").split()\n",
    "print(str)\n",
    "for i in str:\n",
    "    print(i[0].upper()+i[1:-1]+i[-1].upper(),end=\" \")"
   ]
  },
  {
   "cell_type": "markdown",
   "metadata": {},
   "source": [
    "### 03) WAP to find Maximum frequency character in String."
   ]
  },
  {
   "cell_type": "code",
   "execution_count": 3,
   "metadata": {},
   "outputs": [
    {
     "name": "stdout",
     "output_type": "stream",
     "text": [
      "my name is jay agravat\n",
      "5\n",
      "\n"
     ]
    }
   ],
   "source": [
    "str = input(\"Enter Any String : \")\n",
    "print(str)\n",
    "x = []\n",
    "for i in str:\n",
    "    if i==\" \":\n",
    "        continue\n",
    "    ct = str.count(i)\n",
    "    x.append(ct)\n",
    "print(max(x))\n",
    "print()\n"
   ]
  },
  {
   "cell_type": "markdown",
   "metadata": {},
   "source": [
    "### 04) WAP to find Minimum frequency character in String."
   ]
  },
  {
   "cell_type": "code",
   "execution_count": 26,
   "metadata": {},
   "outputs": [
    {
     "name": "stdout",
     "output_type": "stream",
     "text": [
      "my name is jay agravat\n",
      "1\n"
     ]
    }
   ],
   "source": [
    "str = input(\"Enter Any String : \")\n",
    "print(str)\n",
    "x = []\n",
    "for i in str:\n",
    "    if i==\" \":\n",
    "        continue\n",
    "    ct = str.count(i)\n",
    "    x.append(ct)\n",
    "print(max(x))"
   ]
  },
  {
   "cell_type": "markdown",
   "metadata": {},
   "source": [
    "### 05) WAP to check if a given string is binary string or not"
   ]
  },
  {
   "cell_type": "code",
   "execution_count": null,
   "metadata": {},
   "outputs": [
    {
     "name": "stdout",
     "output_type": "stream",
     "text": [
      "Binary String\n"
     ]
    }
   ],
   "source": [
    "str = input(\"Enter A String :\")\n",
    "flag = 0\n",
    "for  i in str:\n",
    "    if i == '0' or i == '1' or i==\" \":\n",
    "        flag+=1\n",
    "if  flag==len(str):\n",
    "    print(\"Binary String\")\n",
    "else:\n",
    "    print(\"Not Binary String\")"
   ]
  }
 ],
 "metadata": {
  "kernelspec": {
   "display_name": "Python 3",
   "language": "python",
   "name": "python3"
  },
  "language_info": {
   "codemirror_mode": {
    "name": "ipython",
    "version": 3
   },
   "file_extension": ".py",
   "mimetype": "text/x-python",
   "name": "python",
   "nbconvert_exporter": "python",
   "pygments_lexer": "ipython3",
   "version": "3.11.0 (main, Oct 24 2022, 18:26:48) [MSC v.1933 64 bit (AMD64)]"
  },
  "vscode": {
   "interpreter": {
    "hash": "b5a6f1e0cd3542f02413380ed3d635a72415a672d8300e73b4be76e94015e3a8"
   }
  }
 },
 "nbformat": 4,
 "nbformat_minor": 4
}
